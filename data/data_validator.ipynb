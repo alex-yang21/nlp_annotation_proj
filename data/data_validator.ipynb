{
 "cells": [
  {
   "cell_type": "markdown",
   "metadata": {},
   "source": [
    "Run this notebook to check that your annotated data is in the proper format; replace the paths in the cell below and execute all cells to validate."
   ]
  },
  {
   "cell_type": "code",
   "execution_count": 9,
   "metadata": {},
   "outputs": [],
   "source": [
    "# Change these files to point to your data\n",
    "adjudicated_path=\"annotations.txt\"\n",
    "individual_annotation_path=\"annotations.txt\""
   ]
  },
  {
   "cell_type": "code",
   "execution_count": 10,
   "metadata": {},
   "outputs": [],
   "source": [
    "from collections import Counter\n",
    "import numpy as np"
   ]
  },
  {
   "cell_type": "code",
   "execution_count": 11,
   "metadata": {},
   "outputs": [],
   "source": [
    "def check_file(filename, min_count):\n",
    "    annotator_triples={}\n",
    "    annos_by_data_id={}\n",
    "    with open(filename, encoding=\"utf-8\") as file:\n",
    "        for idx, line in enumerate(file):\n",
    "            cols=line.rstrip().split(\"\\t\")\n",
    "            assert len(cols) == 4, \"%s does not have 4 columns\" % cols\n",
    "            assert len(cols[3]) > 0, \"text #%s# in row %s is empty\" % (cols[3], idx)\n",
    "            assert len(cols[2]) > 0, \"label #%s# in row %s is empty\" % (cols[2], idx)\n",
    "            annotator_triples[cols[1], cols[0], cols[2]]=1\n",
    "            annos_by_data_id[cols[0]]=1\n",
    "        assert len(annos_by_data_id) >= min_count, \"You must have at least %s labels; this file only has %s\" % (min_count, count)\n",
    "\n",
    "        print(\"This file looks to be in the correct format; %s data points\" % len(annos_by_data_id))\n",
    "    return list(annotator_triples.keys())"
   ]
  },
  {
   "cell_type": "code",
   "execution_count": 12,
   "metadata": {},
   "outputs": [
    {
     "ename": "NameError",
     "evalue": "name 'count' is not defined",
     "output_type": "error",
     "traceback": [
      "\u001b[0;31m---------------------------------------------------------------------------\u001b[0m",
      "\u001b[0;31mNameError\u001b[0m                                 Traceback (most recent call last)",
      "\u001b[0;32m<ipython-input-12-71b76e291956>\u001b[0m in \u001b[0;36m<module>\u001b[0;34m\u001b[0m\n\u001b[0;32m----> 1\u001b[0;31m \u001b[0madjudicated\u001b[0m\u001b[0;34m=\u001b[0m\u001b[0mcheck_file\u001b[0m\u001b[0;34m(\u001b[0m\u001b[0madjudicated_path\u001b[0m\u001b[0;34m,\u001b[0m \u001b[0;36m1000\u001b[0m\u001b[0;34m)\u001b[0m\u001b[0;34m\u001b[0m\u001b[0;34m\u001b[0m\u001b[0m\n\u001b[0m",
      "\u001b[0;32m<ipython-input-11-3cc48bdf3b67>\u001b[0m in \u001b[0;36mcheck_file\u001b[0;34m(filename, min_count)\u001b[0m\n\u001b[1;32m     10\u001b[0m             \u001b[0mannotator_triples\u001b[0m\u001b[0;34m[\u001b[0m\u001b[0mcols\u001b[0m\u001b[0;34m[\u001b[0m\u001b[0;36m1\u001b[0m\u001b[0;34m]\u001b[0m\u001b[0;34m,\u001b[0m \u001b[0mcols\u001b[0m\u001b[0;34m[\u001b[0m\u001b[0;36m0\u001b[0m\u001b[0;34m]\u001b[0m\u001b[0;34m,\u001b[0m \u001b[0mcols\u001b[0m\u001b[0;34m[\u001b[0m\u001b[0;36m2\u001b[0m\u001b[0;34m]\u001b[0m\u001b[0;34m]\u001b[0m\u001b[0;34m=\u001b[0m\u001b[0;36m1\u001b[0m\u001b[0;34m\u001b[0m\u001b[0;34m\u001b[0m\u001b[0m\n\u001b[1;32m     11\u001b[0m             \u001b[0mannos_by_data_id\u001b[0m\u001b[0;34m[\u001b[0m\u001b[0mcols\u001b[0m\u001b[0;34m[\u001b[0m\u001b[0;36m0\u001b[0m\u001b[0;34m]\u001b[0m\u001b[0;34m]\u001b[0m\u001b[0;34m=\u001b[0m\u001b[0;36m1\u001b[0m\u001b[0;34m\u001b[0m\u001b[0;34m\u001b[0m\u001b[0m\n\u001b[0;32m---> 12\u001b[0;31m         \u001b[0;32massert\u001b[0m \u001b[0mlen\u001b[0m\u001b[0;34m(\u001b[0m\u001b[0mannos_by_data_id\u001b[0m\u001b[0;34m)\u001b[0m \u001b[0;34m>=\u001b[0m \u001b[0mmin_count\u001b[0m\u001b[0;34m,\u001b[0m \u001b[0;34m\"You must have at least %s labels; this file only has %s\"\u001b[0m \u001b[0;34m%\u001b[0m \u001b[0;34m(\u001b[0m\u001b[0mmin_count\u001b[0m\u001b[0;34m,\u001b[0m \u001b[0mcount\u001b[0m\u001b[0;34m)\u001b[0m\u001b[0;34m\u001b[0m\u001b[0;34m\u001b[0m\u001b[0m\n\u001b[0m\u001b[1;32m     13\u001b[0m \u001b[0;34m\u001b[0m\u001b[0m\n\u001b[1;32m     14\u001b[0m         \u001b[0mprint\u001b[0m\u001b[0;34m(\u001b[0m\u001b[0;34m\"This file looks to be in the correct format; %s data points\"\u001b[0m \u001b[0;34m%\u001b[0m \u001b[0mlen\u001b[0m\u001b[0;34m(\u001b[0m\u001b[0mannos_by_data_id\u001b[0m\u001b[0;34m)\u001b[0m\u001b[0;34m)\u001b[0m\u001b[0;34m\u001b[0m\u001b[0;34m\u001b[0m\u001b[0m\n",
      "\u001b[0;31mNameError\u001b[0m: name 'count' is not defined"
     ]
    }
   ],
   "source": [
    "adjudicated=check_file(adjudicated_path, 1000)"
   ]
  },
  {
   "cell_type": "code",
   "execution_count": 5,
   "metadata": {},
   "outputs": [],
   "source": [
    "def check_individual_file(filename):\n",
    "    annotator_triples={}\n",
    "    annos_by_data_id={}\n",
    "    annos_by_annotator={}\n",
    "    labels={}\n",
    "    with open(filename, encoding=\"utf-8\") as file:\n",
    "        count=0\n",
    "        for idx, line in enumerate(file):\n",
    "            cols=line.rstrip().split(\"\\t\")\n",
    "            data_id=cols[0]\n",
    "            anno_id=cols[1]\n",
    "            label=cols[2]\n",
    "            \n",
    "            assert len(cols) == 4, \"%s does not have 4 columns\" % cols\n",
    "            assert len(cols[3]) > 0, \"text #%s# in row %s is empty\" % (cols[3], idx)\n",
    "            assert len(label) > 0, \"label #%s# in row %s is empty\" % (cols[2], idx)\n",
    "            count+=1\n",
    "            \n",
    "            annotator_triples[anno_id, data_id, label]=1\n",
    "            \n",
    "            if data_id not in annos_by_data_id:\n",
    "                annos_by_data_id[data_id]={}\n",
    "            annos_by_data_id[data_id][anno_id]=1\n",
    "            \n",
    "            if anno_id not in annos_by_annotator:\n",
    "                annos_by_annotator[anno_id]={}\n",
    "            annos_by_annotator[anno_id][data_id]=1\n",
    "            \n",
    "            if label not in labels:\n",
    "                labels[label]=0\n",
    "            labels[label]+=1\n",
    "                \n",
    "            \n",
    "    assert len(annos_by_data_id) >= 0, \"You must have labels for at least 500 documents; this file only has %s\" % (len(annos_by_data_id))\n",
    "    \n",
    "    for data_id in annos_by_data_id:\n",
    "        assert len(annos_by_data_id[data_id]) == 2, \"Each data point must have two annotations; data id %s does not\" % data_id\n",
    "    \n",
    "    print(\"Annotators:\\n\")\n",
    "    for anno_id in annos_by_annotator:\n",
    "        print(\"%s: %s\" % (anno_id, len(annos_by_annotator[anno_id])))\n",
    "        \n",
    "    print(\"\\nLabels:\\n\")\n",
    "    for label in labels:\n",
    "        print(\"%s: %s\" % (label, labels[label]))\n",
    "        \n",
    "    print(\"\\nThis file looks to be in the correct format; %s data points; %s annotations\" % (len(annos_by_data_id), len(annotator_triples)))\n",
    "    return list(annotator_triples.keys())"
   ]
  },
  {
   "cell_type": "code",
   "execution_count": 6,
   "metadata": {},
   "outputs": [
    {
     "name": "stdout",
     "output_type": "stream",
     "text": [
      "Annotators:\n",
      "\n",
      "johnkeats: 334\n",
      "emilydickinson: 333\n",
      "waltwhitman: 333\n",
      "\n",
      "Labels:\n",
      "\n",
      "pos: 627\n",
      "neg: 373\n",
      "\n",
      "This file looks to be in the correct format; 500 data points; 1000 annotations\n"
     ]
    }
   ],
   "source": [
    "annotation_triples=check_individual_file(individual_annotation_path)"
   ]
  },
  {
   "cell_type": "markdown",
   "metadata": {},
   "source": [
    "Execute the following cell to calculate Fleiss' kappa on your individual annotations."
   ]
  },
  {
   "cell_type": "code",
   "execution_count": 7,
   "metadata": {},
   "outputs": [],
   "source": [
    "def fleiss(annotation_triples):\n",
    "    cats={}\n",
    "    items={}\n",
    "    uid_counts=Counter()\n",
    "    uid_id={}\n",
    "    aid_counts=Counter()\n",
    "\n",
    "    # get label categories and unique data points\n",
    "    for aid, uid, label in annotation_triples:\n",
    "         if label not in cats:\n",
    "            cats[label]=len(cats)\n",
    "            if uid not in uid_id:\n",
    "                uid_id[uid]=len(uid_id)\n",
    "\n",
    "            uid_counts[uid]+=1\n",
    "\n",
    "    ncats=len(cats)\n",
    "    ps=np.zeros(ncats)\n",
    "\n",
    "    data = []\n",
    "\n",
    "    for aid, uid, label in annotation_triples:\n",
    "\n",
    "        if uid not in items:\n",
    "            items[uid]=np.zeros(ncats)\n",
    "\n",
    "        items[uid][cats[label]]+=1\n",
    "        ps[cats[label]]+=1\n",
    "\n",
    "    ps/=np.sum(ps)\n",
    "\n",
    "    expected=0.\n",
    "    for i in range(ncats):\n",
    "        expected+=ps[i]*ps[i]\n",
    "        \n",
    "    agreements=[]\n",
    "    for item in items:\n",
    "        total=np.sum(items[item])\n",
    "        assert total >= 2, \"every data point must have at least two annotations; this one has %s\" % (total)\n",
    "        summ=0\n",
    "\n",
    "        for i in range(ncats):\n",
    "            summ+=items[item][i]*(items[item][i]-1)\n",
    "        summ/=(total*(total-1))\n",
    "\n",
    "        agreements.append(summ)\n",
    "\n",
    "    observed=np.mean(agreements)\n",
    "    print (\"Observed: %.3f\" % (observed))\n",
    "    print (\"Expected: %.3f\" % (expected))\n",
    "    print (\"Fleiss' kappa: %.3f\" % ((observed-expected)/(1-expected)))\n"
   ]
  },
  {
   "cell_type": "code",
   "execution_count": 8,
   "metadata": {},
   "outputs": [
    {
     "name": "stdout",
     "output_type": "stream",
     "text": [
      "Observed: 0.894\n",
      "Expected: 0.532\n",
      "Fleiss' kappa: 0.773\n"
     ]
    }
   ],
   "source": [
    "fleiss(annotation_triples)"
   ]
  },
  {
   "cell_type": "code",
   "execution_count": null,
   "metadata": {},
   "outputs": [],
   "source": []
  }
 ],
 "metadata": {
  "kernelspec": {
   "display_name": "Python 3",
   "language": "python",
   "name": "python3"
  },
  "language_info": {
   "codemirror_mode": {
    "name": "ipython",
    "version": 3
   },
   "file_extension": ".py",
   "mimetype": "text/x-python",
   "name": "python",
   "nbconvert_exporter": "python",
   "pygments_lexer": "ipython3",
   "version": "3.8.3"
  }
 },
 "nbformat": 4,
 "nbformat_minor": 5
}
