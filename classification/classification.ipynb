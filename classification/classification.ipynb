{
  "nbformat": 4,
  "nbformat_minor": 0,
  "metadata": {
    "colab": {
      "name": "ap4.ipynb",
      "provenance": [],
      "collapsed_sections": []
    },
    "kernelspec": {
      "name": "python3",
      "display_name": "Python 3"
    },
    "language_info": {
      "name": "python"
    },
    "accelerator": "GPU",
    "widgets": {
      "application/vnd.jupyter.widget-state+json": {
        "3b5d52f0def449acbd07caca432c7b86": {
          "model_module": "@jupyter-widgets/controls",
          "model_name": "HBoxModel",
          "model_module_version": "1.5.0",
          "state": {
            "_dom_classes": [],
            "_model_module": "@jupyter-widgets/controls",
            "_model_module_version": "1.5.0",
            "_model_name": "HBoxModel",
            "_view_count": null,
            "_view_module": "@jupyter-widgets/controls",
            "_view_module_version": "1.5.0",
            "_view_name": "HBoxView",
            "box_style": "",
            "children": [
              "IPY_MODEL_c093829aaed24e31b0918375ac7eba7b",
              "IPY_MODEL_15296e101cbe486895eec7d2ada41e5e",
              "IPY_MODEL_b8bb473a4d104a18a5f5aa69551b79db"
            ],
            "layout": "IPY_MODEL_bc96abce52a74b91b27be3533a917993"
          }
        },
        "c093829aaed24e31b0918375ac7eba7b": {
          "model_module": "@jupyter-widgets/controls",
          "model_name": "HTMLModel",
          "model_module_version": "1.5.0",
          "state": {
            "_dom_classes": [],
            "_model_module": "@jupyter-widgets/controls",
            "_model_module_version": "1.5.0",
            "_model_name": "HTMLModel",
            "_view_count": null,
            "_view_module": "@jupyter-widgets/controls",
            "_view_module_version": "1.5.0",
            "_view_name": "HTMLView",
            "description": "",
            "description_tooltip": null,
            "layout": "IPY_MODEL_7486865b7d974a71a505f107cba840fb",
            "placeholder": "​",
            "style": "IPY_MODEL_e8d760ae9dae4f10a22fc72a7d6da067",
            "value": "Downloading: 100%"
          }
        },
        "15296e101cbe486895eec7d2ada41e5e": {
          "model_module": "@jupyter-widgets/controls",
          "model_name": "FloatProgressModel",
          "model_module_version": "1.5.0",
          "state": {
            "_dom_classes": [],
            "_model_module": "@jupyter-widgets/controls",
            "_model_module_version": "1.5.0",
            "_model_name": "FloatProgressModel",
            "_view_count": null,
            "_view_module": "@jupyter-widgets/controls",
            "_view_module_version": "1.5.0",
            "_view_name": "ProgressView",
            "bar_style": "success",
            "description": "",
            "description_tooltip": null,
            "layout": "IPY_MODEL_fcbc3db492834843ab4e77c3a8156e1e",
            "max": 213450,
            "min": 0,
            "orientation": "horizontal",
            "style": "IPY_MODEL_fd13c46d22fc44fa957789ab73baf6a8",
            "value": 213450
          }
        },
        "b8bb473a4d104a18a5f5aa69551b79db": {
          "model_module": "@jupyter-widgets/controls",
          "model_name": "HTMLModel",
          "model_module_version": "1.5.0",
          "state": {
            "_dom_classes": [],
            "_model_module": "@jupyter-widgets/controls",
            "_model_module_version": "1.5.0",
            "_model_name": "HTMLModel",
            "_view_count": null,
            "_view_module": "@jupyter-widgets/controls",
            "_view_module_version": "1.5.0",
            "_view_name": "HTMLView",
            "description": "",
            "description_tooltip": null,
            "layout": "IPY_MODEL_6736e6728e754c2aa64b23d1e8179d40",
            "placeholder": "​",
            "style": "IPY_MODEL_0d3747992da34d848ee04673151056db",
            "value": " 208k/208k [00:00&lt;00:00, 1.03MB/s]"
          }
        },
        "bc96abce52a74b91b27be3533a917993": {
          "model_module": "@jupyter-widgets/base",
          "model_name": "LayoutModel",
          "model_module_version": "1.2.0",
          "state": {
            "_model_module": "@jupyter-widgets/base",
            "_model_module_version": "1.2.0",
            "_model_name": "LayoutModel",
            "_view_count": null,
            "_view_module": "@jupyter-widgets/base",
            "_view_module_version": "1.2.0",
            "_view_name": "LayoutView",
            "align_content": null,
            "align_items": null,
            "align_self": null,
            "border": null,
            "bottom": null,
            "display": null,
            "flex": null,
            "flex_flow": null,
            "grid_area": null,
            "grid_auto_columns": null,
            "grid_auto_flow": null,
            "grid_auto_rows": null,
            "grid_column": null,
            "grid_gap": null,
            "grid_row": null,
            "grid_template_areas": null,
            "grid_template_columns": null,
            "grid_template_rows": null,
            "height": null,
            "justify_content": null,
            "justify_items": null,
            "left": null,
            "margin": null,
            "max_height": null,
            "max_width": null,
            "min_height": null,
            "min_width": null,
            "object_fit": null,
            "object_position": null,
            "order": null,
            "overflow": null,
            "overflow_x": null,
            "overflow_y": null,
            "padding": null,
            "right": null,
            "top": null,
            "visibility": null,
            "width": null
          }
        },
        "7486865b7d974a71a505f107cba840fb": {
          "model_module": "@jupyter-widgets/base",
          "model_name": "LayoutModel",
          "model_module_version": "1.2.0",
          "state": {
            "_model_module": "@jupyter-widgets/base",
            "_model_module_version": "1.2.0",
            "_model_name": "LayoutModel",
            "_view_count": null,
            "_view_module": "@jupyter-widgets/base",
            "_view_module_version": "1.2.0",
            "_view_name": "LayoutView",
            "align_content": null,
            "align_items": null,
            "align_self": null,
            "border": null,
            "bottom": null,
            "display": null,
            "flex": null,
            "flex_flow": null,
            "grid_area": null,
            "grid_auto_columns": null,
            "grid_auto_flow": null,
            "grid_auto_rows": null,
            "grid_column": null,
            "grid_gap": null,
            "grid_row": null,
            "grid_template_areas": null,
            "grid_template_columns": null,
            "grid_template_rows": null,
            "height": null,
            "justify_content": null,
            "justify_items": null,
            "left": null,
            "margin": null,
            "max_height": null,
            "max_width": null,
            "min_height": null,
            "min_width": null,
            "object_fit": null,
            "object_position": null,
            "order": null,
            "overflow": null,
            "overflow_x": null,
            "overflow_y": null,
            "padding": null,
            "right": null,
            "top": null,
            "visibility": null,
            "width": null
          }
        },
        "e8d760ae9dae4f10a22fc72a7d6da067": {
          "model_module": "@jupyter-widgets/controls",
          "model_name": "DescriptionStyleModel",
          "model_module_version": "1.5.0",
          "state": {
            "_model_module": "@jupyter-widgets/controls",
            "_model_module_version": "1.5.0",
            "_model_name": "DescriptionStyleModel",
            "_view_count": null,
            "_view_module": "@jupyter-widgets/base",
            "_view_module_version": "1.2.0",
            "_view_name": "StyleView",
            "description_width": ""
          }
        },
        "fcbc3db492834843ab4e77c3a8156e1e": {
          "model_module": "@jupyter-widgets/base",
          "model_name": "LayoutModel",
          "model_module_version": "1.2.0",
          "state": {
            "_model_module": "@jupyter-widgets/base",
            "_model_module_version": "1.2.0",
            "_model_name": "LayoutModel",
            "_view_count": null,
            "_view_module": "@jupyter-widgets/base",
            "_view_module_version": "1.2.0",
            "_view_name": "LayoutView",
            "align_content": null,
            "align_items": null,
            "align_self": null,
            "border": null,
            "bottom": null,
            "display": null,
            "flex": null,
            "flex_flow": null,
            "grid_area": null,
            "grid_auto_columns": null,
            "grid_auto_flow": null,
            "grid_auto_rows": null,
            "grid_column": null,
            "grid_gap": null,
            "grid_row": null,
            "grid_template_areas": null,
            "grid_template_columns": null,
            "grid_template_rows": null,
            "height": null,
            "justify_content": null,
            "justify_items": null,
            "left": null,
            "margin": null,
            "max_height": null,
            "max_width": null,
            "min_height": null,
            "min_width": null,
            "object_fit": null,
            "object_position": null,
            "order": null,
            "overflow": null,
            "overflow_x": null,
            "overflow_y": null,
            "padding": null,
            "right": null,
            "top": null,
            "visibility": null,
            "width": null
          }
        },
        "fd13c46d22fc44fa957789ab73baf6a8": {
          "model_module": "@jupyter-widgets/controls",
          "model_name": "ProgressStyleModel",
          "model_module_version": "1.5.0",
          "state": {
            "_model_module": "@jupyter-widgets/controls",
            "_model_module_version": "1.5.0",
            "_model_name": "ProgressStyleModel",
            "_view_count": null,
            "_view_module": "@jupyter-widgets/base",
            "_view_module_version": "1.2.0",
            "_view_name": "StyleView",
            "bar_color": null,
            "description_width": ""
          }
        },
        "6736e6728e754c2aa64b23d1e8179d40": {
          "model_module": "@jupyter-widgets/base",
          "model_name": "LayoutModel",
          "model_module_version": "1.2.0",
          "state": {
            "_model_module": "@jupyter-widgets/base",
            "_model_module_version": "1.2.0",
            "_model_name": "LayoutModel",
            "_view_count": null,
            "_view_module": "@jupyter-widgets/base",
            "_view_module_version": "1.2.0",
            "_view_name": "LayoutView",
            "align_content": null,
            "align_items": null,
            "align_self": null,
            "border": null,
            "bottom": null,
            "display": null,
            "flex": null,
            "flex_flow": null,
            "grid_area": null,
            "grid_auto_columns": null,
            "grid_auto_flow": null,
            "grid_auto_rows": null,
            "grid_column": null,
            "grid_gap": null,
            "grid_row": null,
            "grid_template_areas": null,
            "grid_template_columns": null,
            "grid_template_rows": null,
            "height": null,
            "justify_content": null,
            "justify_items": null,
            "left": null,
            "margin": null,
            "max_height": null,
            "max_width": null,
            "min_height": null,
            "min_width": null,
            "object_fit": null,
            "object_position": null,
            "order": null,
            "overflow": null,
            "overflow_x": null,
            "overflow_y": null,
            "padding": null,
            "right": null,
            "top": null,
            "visibility": null,
            "width": null
          }
        },
        "0d3747992da34d848ee04673151056db": {
          "model_module": "@jupyter-widgets/controls",
          "model_name": "DescriptionStyleModel",
          "model_module_version": "1.5.0",
          "state": {
            "_model_module": "@jupyter-widgets/controls",
            "_model_module_version": "1.5.0",
            "_model_name": "DescriptionStyleModel",
            "_view_count": null,
            "_view_module": "@jupyter-widgets/base",
            "_view_module_version": "1.2.0",
            "_view_name": "StyleView",
            "description_width": ""
          }
        },
        "5ca4a11394354270bec310a589fa0789": {
          "model_module": "@jupyter-widgets/controls",
          "model_name": "HBoxModel",
          "model_module_version": "1.5.0",
          "state": {
            "_dom_classes": [],
            "_model_module": "@jupyter-widgets/controls",
            "_model_module_version": "1.5.0",
            "_model_name": "HBoxModel",
            "_view_count": null,
            "_view_module": "@jupyter-widgets/controls",
            "_view_module_version": "1.5.0",
            "_view_name": "HBoxView",
            "box_style": "",
            "children": [
              "IPY_MODEL_ae65dee4264145cd818dd313daaee85a",
              "IPY_MODEL_b4a771d524c647ce8939f42d94a2b8e0",
              "IPY_MODEL_6ade1433febb4311b70c8b0c7ba51d39"
            ],
            "layout": "IPY_MODEL_7953717f15fc41d8a4f064df7ceb1921"
          }
        },
        "ae65dee4264145cd818dd313daaee85a": {
          "model_module": "@jupyter-widgets/controls",
          "model_name": "HTMLModel",
          "model_module_version": "1.5.0",
          "state": {
            "_dom_classes": [],
            "_model_module": "@jupyter-widgets/controls",
            "_model_module_version": "1.5.0",
            "_model_name": "HTMLModel",
            "_view_count": null,
            "_view_module": "@jupyter-widgets/controls",
            "_view_module_version": "1.5.0",
            "_view_name": "HTMLView",
            "description": "",
            "description_tooltip": null,
            "layout": "IPY_MODEL_20e633ef56584d5cb49a1734cdca4400",
            "placeholder": "​",
            "style": "IPY_MODEL_e46a6c9a4b08484faf22d5640475f0b0",
            "value": "Downloading: 100%"
          }
        },
        "b4a771d524c647ce8939f42d94a2b8e0": {
          "model_module": "@jupyter-widgets/controls",
          "model_name": "FloatProgressModel",
          "model_module_version": "1.5.0",
          "state": {
            "_dom_classes": [],
            "_model_module": "@jupyter-widgets/controls",
            "_model_module_version": "1.5.0",
            "_model_name": "FloatProgressModel",
            "_view_count": null,
            "_view_module": "@jupyter-widgets/controls",
            "_view_module_version": "1.5.0",
            "_view_name": "ProgressView",
            "bar_style": "success",
            "description": "",
            "description_tooltip": null,
            "layout": "IPY_MODEL_c4d7d9570c9d43ce84cd679dc7f78cdd",
            "max": 29,
            "min": 0,
            "orientation": "horizontal",
            "style": "IPY_MODEL_7cb0d2cc9677410b84140a17340301e6",
            "value": 29
          }
        },
        "6ade1433febb4311b70c8b0c7ba51d39": {
          "model_module": "@jupyter-widgets/controls",
          "model_name": "HTMLModel",
          "model_module_version": "1.5.0",
          "state": {
            "_dom_classes": [],
            "_model_module": "@jupyter-widgets/controls",
            "_model_module_version": "1.5.0",
            "_model_name": "HTMLModel",
            "_view_count": null,
            "_view_module": "@jupyter-widgets/controls",
            "_view_module_version": "1.5.0",
            "_view_name": "HTMLView",
            "description": "",
            "description_tooltip": null,
            "layout": "IPY_MODEL_aea72de75ee94bd1ad85523086f01d37",
            "placeholder": "​",
            "style": "IPY_MODEL_469eb704eaf5466f94e686bf15496f4f",
            "value": " 29.0/29.0 [00:00&lt;00:00, 679B/s]"
          }
        },
        "7953717f15fc41d8a4f064df7ceb1921": {
          "model_module": "@jupyter-widgets/base",
          "model_name": "LayoutModel",
          "model_module_version": "1.2.0",
          "state": {
            "_model_module": "@jupyter-widgets/base",
            "_model_module_version": "1.2.0",
            "_model_name": "LayoutModel",
            "_view_count": null,
            "_view_module": "@jupyter-widgets/base",
            "_view_module_version": "1.2.0",
            "_view_name": "LayoutView",
            "align_content": null,
            "align_items": null,
            "align_self": null,
            "border": null,
            "bottom": null,
            "display": null,
            "flex": null,
            "flex_flow": null,
            "grid_area": null,
            "grid_auto_columns": null,
            "grid_auto_flow": null,
            "grid_auto_rows": null,
            "grid_column": null,
            "grid_gap": null,
            "grid_row": null,
            "grid_template_areas": null,
            "grid_template_columns": null,
            "grid_template_rows": null,
            "height": null,
            "justify_content": null,
            "justify_items": null,
            "left": null,
            "margin": null,
            "max_height": null,
            "max_width": null,
            "min_height": null,
            "min_width": null,
            "object_fit": null,
            "object_position": null,
            "order": null,
            "overflow": null,
            "overflow_x": null,
            "overflow_y": null,
            "padding": null,
            "right": null,
            "top": null,
            "visibility": null,
            "width": null
          }
        },
        "20e633ef56584d5cb49a1734cdca4400": {
          "model_module": "@jupyter-widgets/base",
          "model_name": "LayoutModel",
          "model_module_version": "1.2.0",
          "state": {
            "_model_module": "@jupyter-widgets/base",
            "_model_module_version": "1.2.0",
            "_model_name": "LayoutModel",
            "_view_count": null,
            "_view_module": "@jupyter-widgets/base",
            "_view_module_version": "1.2.0",
            "_view_name": "LayoutView",
            "align_content": null,
            "align_items": null,
            "align_self": null,
            "border": null,
            "bottom": null,
            "display": null,
            "flex": null,
            "flex_flow": null,
            "grid_area": null,
            "grid_auto_columns": null,
            "grid_auto_flow": null,
            "grid_auto_rows": null,
            "grid_column": null,
            "grid_gap": null,
            "grid_row": null,
            "grid_template_areas": null,
            "grid_template_columns": null,
            "grid_template_rows": null,
            "height": null,
            "justify_content": null,
            "justify_items": null,
            "left": null,
            "margin": null,
            "max_height": null,
            "max_width": null,
            "min_height": null,
            "min_width": null,
            "object_fit": null,
            "object_position": null,
            "order": null,
            "overflow": null,
            "overflow_x": null,
            "overflow_y": null,
            "padding": null,
            "right": null,
            "top": null,
            "visibility": null,
            "width": null
          }
        },
        "e46a6c9a4b08484faf22d5640475f0b0": {
          "model_module": "@jupyter-widgets/controls",
          "model_name": "DescriptionStyleModel",
          "model_module_version": "1.5.0",
          "state": {
            "_model_module": "@jupyter-widgets/controls",
            "_model_module_version": "1.5.0",
            "_model_name": "DescriptionStyleModel",
            "_view_count": null,
            "_view_module": "@jupyter-widgets/base",
            "_view_module_version": "1.2.0",
            "_view_name": "StyleView",
            "description_width": ""
          }
        },
        "c4d7d9570c9d43ce84cd679dc7f78cdd": {
          "model_module": "@jupyter-widgets/base",
          "model_name": "LayoutModel",
          "model_module_version": "1.2.0",
          "state": {
            "_model_module": "@jupyter-widgets/base",
            "_model_module_version": "1.2.0",
            "_model_name": "LayoutModel",
            "_view_count": null,
            "_view_module": "@jupyter-widgets/base",
            "_view_module_version": "1.2.0",
            "_view_name": "LayoutView",
            "align_content": null,
            "align_items": null,
            "align_self": null,
            "border": null,
            "bottom": null,
            "display": null,
            "flex": null,
            "flex_flow": null,
            "grid_area": null,
            "grid_auto_columns": null,
            "grid_auto_flow": null,
            "grid_auto_rows": null,
            "grid_column": null,
            "grid_gap": null,
            "grid_row": null,
            "grid_template_areas": null,
            "grid_template_columns": null,
            "grid_template_rows": null,
            "height": null,
            "justify_content": null,
            "justify_items": null,
            "left": null,
            "margin": null,
            "max_height": null,
            "max_width": null,
            "min_height": null,
            "min_width": null,
            "object_fit": null,
            "object_position": null,
            "order": null,
            "overflow": null,
            "overflow_x": null,
            "overflow_y": null,
            "padding": null,
            "right": null,
            "top": null,
            "visibility": null,
            "width": null
          }
        },
        "7cb0d2cc9677410b84140a17340301e6": {
          "model_module": "@jupyter-widgets/controls",
          "model_name": "ProgressStyleModel",
          "model_module_version": "1.5.0",
          "state": {
            "_model_module": "@jupyter-widgets/controls",
            "_model_module_version": "1.5.0",
            "_model_name": "ProgressStyleModel",
            "_view_count": null,
            "_view_module": "@jupyter-widgets/base",
            "_view_module_version": "1.2.0",
            "_view_name": "StyleView",
            "bar_color": null,
            "description_width": ""
          }
        },
        "aea72de75ee94bd1ad85523086f01d37": {
          "model_module": "@jupyter-widgets/base",
          "model_name": "LayoutModel",
          "model_module_version": "1.2.0",
          "state": {
            "_model_module": "@jupyter-widgets/base",
            "_model_module_version": "1.2.0",
            "_model_name": "LayoutModel",
            "_view_count": null,
            "_view_module": "@jupyter-widgets/base",
            "_view_module_version": "1.2.0",
            "_view_name": "LayoutView",
            "align_content": null,
            "align_items": null,
            "align_self": null,
            "border": null,
            "bottom": null,
            "display": null,
            "flex": null,
            "flex_flow": null,
            "grid_area": null,
            "grid_auto_columns": null,
            "grid_auto_flow": null,
            "grid_auto_rows": null,
            "grid_column": null,
            "grid_gap": null,
            "grid_row": null,
            "grid_template_areas": null,
            "grid_template_columns": null,
            "grid_template_rows": null,
            "height": null,
            "justify_content": null,
            "justify_items": null,
            "left": null,
            "margin": null,
            "max_height": null,
            "max_width": null,
            "min_height": null,
            "min_width": null,
            "object_fit": null,
            "object_position": null,
            "order": null,
            "overflow": null,
            "overflow_x": null,
            "overflow_y": null,
            "padding": null,
            "right": null,
            "top": null,
            "visibility": null,
            "width": null
          }
        },
        "469eb704eaf5466f94e686bf15496f4f": {
          "model_module": "@jupyter-widgets/controls",
          "model_name": "DescriptionStyleModel",
          "model_module_version": "1.5.0",
          "state": {
            "_model_module": "@jupyter-widgets/controls",
            "_model_module_version": "1.5.0",
            "_model_name": "DescriptionStyleModel",
            "_view_count": null,
            "_view_module": "@jupyter-widgets/base",
            "_view_module_version": "1.2.0",
            "_view_name": "StyleView",
            "description_width": ""
          }
        },
        "6f59f999b145429784791837303b726b": {
          "model_module": "@jupyter-widgets/controls",
          "model_name": "HBoxModel",
          "model_module_version": "1.5.0",
          "state": {
            "_dom_classes": [],
            "_model_module": "@jupyter-widgets/controls",
            "_model_module_version": "1.5.0",
            "_model_name": "HBoxModel",
            "_view_count": null,
            "_view_module": "@jupyter-widgets/controls",
            "_view_module_version": "1.5.0",
            "_view_name": "HBoxView",
            "box_style": "",
            "children": [
              "IPY_MODEL_8c8cb88696a3425d88b5deb88715198d",
              "IPY_MODEL_8f2cdaa003914d979aeab052c93cf0d8",
              "IPY_MODEL_e4108372280948a987e86f56aaac13e3"
            ],
            "layout": "IPY_MODEL_7e49ee1af614434ba31a51897c7dc1ed"
          }
        },
        "8c8cb88696a3425d88b5deb88715198d": {
          "model_module": "@jupyter-widgets/controls",
          "model_name": "HTMLModel",
          "model_module_version": "1.5.0",
          "state": {
            "_dom_classes": [],
            "_model_module": "@jupyter-widgets/controls",
            "_model_module_version": "1.5.0",
            "_model_name": "HTMLModel",
            "_view_count": null,
            "_view_module": "@jupyter-widgets/controls",
            "_view_module_version": "1.5.0",
            "_view_name": "HTMLView",
            "description": "",
            "description_tooltip": null,
            "layout": "IPY_MODEL_6ed8861308f64a3b9d32774102056bb5",
            "placeholder": "​",
            "style": "IPY_MODEL_947e25b252cd4e4fae73c1418215b978",
            "value": "Downloading: 100%"
          }
        },
        "8f2cdaa003914d979aeab052c93cf0d8": {
          "model_module": "@jupyter-widgets/controls",
          "model_name": "FloatProgressModel",
          "model_module_version": "1.5.0",
          "state": {
            "_dom_classes": [],
            "_model_module": "@jupyter-widgets/controls",
            "_model_module_version": "1.5.0",
            "_model_name": "FloatProgressModel",
            "_view_count": null,
            "_view_module": "@jupyter-widgets/controls",
            "_view_module_version": "1.5.0",
            "_view_name": "ProgressView",
            "bar_style": "success",
            "description": "",
            "description_tooltip": null,
            "layout": "IPY_MODEL_0f229e32c1664872a6e16f7445a17051",
            "max": 570,
            "min": 0,
            "orientation": "horizontal",
            "style": "IPY_MODEL_70b08f0e7ee44317a0f90c9d3b7fef7b",
            "value": 570
          }
        },
        "e4108372280948a987e86f56aaac13e3": {
          "model_module": "@jupyter-widgets/controls",
          "model_name": "HTMLModel",
          "model_module_version": "1.5.0",
          "state": {
            "_dom_classes": [],
            "_model_module": "@jupyter-widgets/controls",
            "_model_module_version": "1.5.0",
            "_model_name": "HTMLModel",
            "_view_count": null,
            "_view_module": "@jupyter-widgets/controls",
            "_view_module_version": "1.5.0",
            "_view_name": "HTMLView",
            "description": "",
            "description_tooltip": null,
            "layout": "IPY_MODEL_1e75fa7d67814dca8bb6809545e73534",
            "placeholder": "​",
            "style": "IPY_MODEL_b9f26b70079b4a1e8e3a720b33215991",
            "value": " 570/570 [00:00&lt;00:00, 13.9kB/s]"
          }
        },
        "7e49ee1af614434ba31a51897c7dc1ed": {
          "model_module": "@jupyter-widgets/base",
          "model_name": "LayoutModel",
          "model_module_version": "1.2.0",
          "state": {
            "_model_module": "@jupyter-widgets/base",
            "_model_module_version": "1.2.0",
            "_model_name": "LayoutModel",
            "_view_count": null,
            "_view_module": "@jupyter-widgets/base",
            "_view_module_version": "1.2.0",
            "_view_name": "LayoutView",
            "align_content": null,
            "align_items": null,
            "align_self": null,
            "border": null,
            "bottom": null,
            "display": null,
            "flex": null,
            "flex_flow": null,
            "grid_area": null,
            "grid_auto_columns": null,
            "grid_auto_flow": null,
            "grid_auto_rows": null,
            "grid_column": null,
            "grid_gap": null,
            "grid_row": null,
            "grid_template_areas": null,
            "grid_template_columns": null,
            "grid_template_rows": null,
            "height": null,
            "justify_content": null,
            "justify_items": null,
            "left": null,
            "margin": null,
            "max_height": null,
            "max_width": null,
            "min_height": null,
            "min_width": null,
            "object_fit": null,
            "object_position": null,
            "order": null,
            "overflow": null,
            "overflow_x": null,
            "overflow_y": null,
            "padding": null,
            "right": null,
            "top": null,
            "visibility": null,
            "width": null
          }
        },
        "6ed8861308f64a3b9d32774102056bb5": {
          "model_module": "@jupyter-widgets/base",
          "model_name": "LayoutModel",
          "model_module_version": "1.2.0",
          "state": {
            "_model_module": "@jupyter-widgets/base",
            "_model_module_version": "1.2.0",
            "_model_name": "LayoutModel",
            "_view_count": null,
            "_view_module": "@jupyter-widgets/base",
            "_view_module_version": "1.2.0",
            "_view_name": "LayoutView",
            "align_content": null,
            "align_items": null,
            "align_self": null,
            "border": null,
            "bottom": null,
            "display": null,
            "flex": null,
            "flex_flow": null,
            "grid_area": null,
            "grid_auto_columns": null,
            "grid_auto_flow": null,
            "grid_auto_rows": null,
            "grid_column": null,
            "grid_gap": null,
            "grid_row": null,
            "grid_template_areas": null,
            "grid_template_columns": null,
            "grid_template_rows": null,
            "height": null,
            "justify_content": null,
            "justify_items": null,
            "left": null,
            "margin": null,
            "max_height": null,
            "max_width": null,
            "min_height": null,
            "min_width": null,
            "object_fit": null,
            "object_position": null,
            "order": null,
            "overflow": null,
            "overflow_x": null,
            "overflow_y": null,
            "padding": null,
            "right": null,
            "top": null,
            "visibility": null,
            "width": null
          }
        },
        "947e25b252cd4e4fae73c1418215b978": {
          "model_module": "@jupyter-widgets/controls",
          "model_name": "DescriptionStyleModel",
          "model_module_version": "1.5.0",
          "state": {
            "_model_module": "@jupyter-widgets/controls",
            "_model_module_version": "1.5.0",
            "_model_name": "DescriptionStyleModel",
            "_view_count": null,
            "_view_module": "@jupyter-widgets/base",
            "_view_module_version": "1.2.0",
            "_view_name": "StyleView",
            "description_width": ""
          }
        },
        "0f229e32c1664872a6e16f7445a17051": {
          "model_module": "@jupyter-widgets/base",
          "model_name": "LayoutModel",
          "model_module_version": "1.2.0",
          "state": {
            "_model_module": "@jupyter-widgets/base",
            "_model_module_version": "1.2.0",
            "_model_name": "LayoutModel",
            "_view_count": null,
            "_view_module": "@jupyter-widgets/base",
            "_view_module_version": "1.2.0",
            "_view_name": "LayoutView",
            "align_content": null,
            "align_items": null,
            "align_self": null,
            "border": null,
            "bottom": null,
            "display": null,
            "flex": null,
            "flex_flow": null,
            "grid_area": null,
            "grid_auto_columns": null,
            "grid_auto_flow": null,
            "grid_auto_rows": null,
            "grid_column": null,
            "grid_gap": null,
            "grid_row": null,
            "grid_template_areas": null,
            "grid_template_columns": null,
            "grid_template_rows": null,
            "height": null,
            "justify_content": null,
            "justify_items": null,
            "left": null,
            "margin": null,
            "max_height": null,
            "max_width": null,
            "min_height": null,
            "min_width": null,
            "object_fit": null,
            "object_position": null,
            "order": null,
            "overflow": null,
            "overflow_x": null,
            "overflow_y": null,
            "padding": null,
            "right": null,
            "top": null,
            "visibility": null,
            "width": null
          }
        },
        "70b08f0e7ee44317a0f90c9d3b7fef7b": {
          "model_module": "@jupyter-widgets/controls",
          "model_name": "ProgressStyleModel",
          "model_module_version": "1.5.0",
          "state": {
            "_model_module": "@jupyter-widgets/controls",
            "_model_module_version": "1.5.0",
            "_model_name": "ProgressStyleModel",
            "_view_count": null,
            "_view_module": "@jupyter-widgets/base",
            "_view_module_version": "1.2.0",
            "_view_name": "StyleView",
            "bar_color": null,
            "description_width": ""
          }
        },
        "1e75fa7d67814dca8bb6809545e73534": {
          "model_module": "@jupyter-widgets/base",
          "model_name": "LayoutModel",
          "model_module_version": "1.2.0",
          "state": {
            "_model_module": "@jupyter-widgets/base",
            "_model_module_version": "1.2.0",
            "_model_name": "LayoutModel",
            "_view_count": null,
            "_view_module": "@jupyter-widgets/base",
            "_view_module_version": "1.2.0",
            "_view_name": "LayoutView",
            "align_content": null,
            "align_items": null,
            "align_self": null,
            "border": null,
            "bottom": null,
            "display": null,
            "flex": null,
            "flex_flow": null,
            "grid_area": null,
            "grid_auto_columns": null,
            "grid_auto_flow": null,
            "grid_auto_rows": null,
            "grid_column": null,
            "grid_gap": null,
            "grid_row": null,
            "grid_template_areas": null,
            "grid_template_columns": null,
            "grid_template_rows": null,
            "height": null,
            "justify_content": null,
            "justify_items": null,
            "left": null,
            "margin": null,
            "max_height": null,
            "max_width": null,
            "min_height": null,
            "min_width": null,
            "object_fit": null,
            "object_position": null,
            "order": null,
            "overflow": null,
            "overflow_x": null,
            "overflow_y": null,
            "padding": null,
            "right": null,
            "top": null,
            "visibility": null,
            "width": null
          }
        },
        "b9f26b70079b4a1e8e3a720b33215991": {
          "model_module": "@jupyter-widgets/controls",
          "model_name": "DescriptionStyleModel",
          "model_module_version": "1.5.0",
          "state": {
            "_model_module": "@jupyter-widgets/controls",
            "_model_module_version": "1.5.0",
            "_model_name": "DescriptionStyleModel",
            "_view_count": null,
            "_view_module": "@jupyter-widgets/base",
            "_view_module_version": "1.2.0",
            "_view_name": "StyleView",
            "description_width": ""
          }
        },
        "42c31bd8208144e8a847339d3243dd8e": {
          "model_module": "@jupyter-widgets/controls",
          "model_name": "HBoxModel",
          "model_module_version": "1.5.0",
          "state": {
            "_dom_classes": [],
            "_model_module": "@jupyter-widgets/controls",
            "_model_module_version": "1.5.0",
            "_model_name": "HBoxModel",
            "_view_count": null,
            "_view_module": "@jupyter-widgets/controls",
            "_view_module_version": "1.5.0",
            "_view_name": "HBoxView",
            "box_style": "",
            "children": [
              "IPY_MODEL_e2c8d2ca65ec47b58d8ebc6fe34b0bc2",
              "IPY_MODEL_07dc504f494b49858b1057ecc0b9a3bc",
              "IPY_MODEL_1532f2100f49404f8a35139c40a77007"
            ],
            "layout": "IPY_MODEL_57605e38c2f94f4f9810a9c7c7d8c5d3"
          }
        },
        "e2c8d2ca65ec47b58d8ebc6fe34b0bc2": {
          "model_module": "@jupyter-widgets/controls",
          "model_name": "HTMLModel",
          "model_module_version": "1.5.0",
          "state": {
            "_dom_classes": [],
            "_model_module": "@jupyter-widgets/controls",
            "_model_module_version": "1.5.0",
            "_model_name": "HTMLModel",
            "_view_count": null,
            "_view_module": "@jupyter-widgets/controls",
            "_view_module_version": "1.5.0",
            "_view_name": "HTMLView",
            "description": "",
            "description_tooltip": null,
            "layout": "IPY_MODEL_56367938ce124fdbad5f399063da84d8",
            "placeholder": "​",
            "style": "IPY_MODEL_3a4736d0ce404e418a640c6818d00ba6",
            "value": "Downloading: 100%"
          }
        },
        "07dc504f494b49858b1057ecc0b9a3bc": {
          "model_module": "@jupyter-widgets/controls",
          "model_name": "FloatProgressModel",
          "model_module_version": "1.5.0",
          "state": {
            "_dom_classes": [],
            "_model_module": "@jupyter-widgets/controls",
            "_model_module_version": "1.5.0",
            "_model_name": "FloatProgressModel",
            "_view_count": null,
            "_view_module": "@jupyter-widgets/controls",
            "_view_module_version": "1.5.0",
            "_view_name": "ProgressView",
            "bar_style": "success",
            "description": "",
            "description_tooltip": null,
            "layout": "IPY_MODEL_a12bb2ed468c4e6faa818eebe2ee36e5",
            "max": 435779157,
            "min": 0,
            "orientation": "horizontal",
            "style": "IPY_MODEL_7ee9e57883204802a0e6c05d7eddd1df",
            "value": 435779157
          }
        },
        "1532f2100f49404f8a35139c40a77007": {
          "model_module": "@jupyter-widgets/controls",
          "model_name": "HTMLModel",
          "model_module_version": "1.5.0",
          "state": {
            "_dom_classes": [],
            "_model_module": "@jupyter-widgets/controls",
            "_model_module_version": "1.5.0",
            "_model_name": "HTMLModel",
            "_view_count": null,
            "_view_module": "@jupyter-widgets/controls",
            "_view_module_version": "1.5.0",
            "_view_name": "HTMLView",
            "description": "",
            "description_tooltip": null,
            "layout": "IPY_MODEL_f5b72555116c465ab393a29880bfa4dd",
            "placeholder": "​",
            "style": "IPY_MODEL_ad232ea1233045b9b0c137ccec6a1424",
            "value": " 416M/416M [00:20&lt;00:00, 28.9MB/s]"
          }
        },
        "57605e38c2f94f4f9810a9c7c7d8c5d3": {
          "model_module": "@jupyter-widgets/base",
          "model_name": "LayoutModel",
          "model_module_version": "1.2.0",
          "state": {
            "_model_module": "@jupyter-widgets/base",
            "_model_module_version": "1.2.0",
            "_model_name": "LayoutModel",
            "_view_count": null,
            "_view_module": "@jupyter-widgets/base",
            "_view_module_version": "1.2.0",
            "_view_name": "LayoutView",
            "align_content": null,
            "align_items": null,
            "align_self": null,
            "border": null,
            "bottom": null,
            "display": null,
            "flex": null,
            "flex_flow": null,
            "grid_area": null,
            "grid_auto_columns": null,
            "grid_auto_flow": null,
            "grid_auto_rows": null,
            "grid_column": null,
            "grid_gap": null,
            "grid_row": null,
            "grid_template_areas": null,
            "grid_template_columns": null,
            "grid_template_rows": null,
            "height": null,
            "justify_content": null,
            "justify_items": null,
            "left": null,
            "margin": null,
            "max_height": null,
            "max_width": null,
            "min_height": null,
            "min_width": null,
            "object_fit": null,
            "object_position": null,
            "order": null,
            "overflow": null,
            "overflow_x": null,
            "overflow_y": null,
            "padding": null,
            "right": null,
            "top": null,
            "visibility": null,
            "width": null
          }
        },
        "56367938ce124fdbad5f399063da84d8": {
          "model_module": "@jupyter-widgets/base",
          "model_name": "LayoutModel",
          "model_module_version": "1.2.0",
          "state": {
            "_model_module": "@jupyter-widgets/base",
            "_model_module_version": "1.2.0",
            "_model_name": "LayoutModel",
            "_view_count": null,
            "_view_module": "@jupyter-widgets/base",
            "_view_module_version": "1.2.0",
            "_view_name": "LayoutView",
            "align_content": null,
            "align_items": null,
            "align_self": null,
            "border": null,
            "bottom": null,
            "display": null,
            "flex": null,
            "flex_flow": null,
            "grid_area": null,
            "grid_auto_columns": null,
            "grid_auto_flow": null,
            "grid_auto_rows": null,
            "grid_column": null,
            "grid_gap": null,
            "grid_row": null,
            "grid_template_areas": null,
            "grid_template_columns": null,
            "grid_template_rows": null,
            "height": null,
            "justify_content": null,
            "justify_items": null,
            "left": null,
            "margin": null,
            "max_height": null,
            "max_width": null,
            "min_height": null,
            "min_width": null,
            "object_fit": null,
            "object_position": null,
            "order": null,
            "overflow": null,
            "overflow_x": null,
            "overflow_y": null,
            "padding": null,
            "right": null,
            "top": null,
            "visibility": null,
            "width": null
          }
        },
        "3a4736d0ce404e418a640c6818d00ba6": {
          "model_module": "@jupyter-widgets/controls",
          "model_name": "DescriptionStyleModel",
          "model_module_version": "1.5.0",
          "state": {
            "_model_module": "@jupyter-widgets/controls",
            "_model_module_version": "1.5.0",
            "_model_name": "DescriptionStyleModel",
            "_view_count": null,
            "_view_module": "@jupyter-widgets/base",
            "_view_module_version": "1.2.0",
            "_view_name": "StyleView",
            "description_width": ""
          }
        },
        "a12bb2ed468c4e6faa818eebe2ee36e5": {
          "model_module": "@jupyter-widgets/base",
          "model_name": "LayoutModel",
          "model_module_version": "1.2.0",
          "state": {
            "_model_module": "@jupyter-widgets/base",
            "_model_module_version": "1.2.0",
            "_model_name": "LayoutModel",
            "_view_count": null,
            "_view_module": "@jupyter-widgets/base",
            "_view_module_version": "1.2.0",
            "_view_name": "LayoutView",
            "align_content": null,
            "align_items": null,
            "align_self": null,
            "border": null,
            "bottom": null,
            "display": null,
            "flex": null,
            "flex_flow": null,
            "grid_area": null,
            "grid_auto_columns": null,
            "grid_auto_flow": null,
            "grid_auto_rows": null,
            "grid_column": null,
            "grid_gap": null,
            "grid_row": null,
            "grid_template_areas": null,
            "grid_template_columns": null,
            "grid_template_rows": null,
            "height": null,
            "justify_content": null,
            "justify_items": null,
            "left": null,
            "margin": null,
            "max_height": null,
            "max_width": null,
            "min_height": null,
            "min_width": null,
            "object_fit": null,
            "object_position": null,
            "order": null,
            "overflow": null,
            "overflow_x": null,
            "overflow_y": null,
            "padding": null,
            "right": null,
            "top": null,
            "visibility": null,
            "width": null
          }
        },
        "7ee9e57883204802a0e6c05d7eddd1df": {
          "model_module": "@jupyter-widgets/controls",
          "model_name": "ProgressStyleModel",
          "model_module_version": "1.5.0",
          "state": {
            "_model_module": "@jupyter-widgets/controls",
            "_model_module_version": "1.5.0",
            "_model_name": "ProgressStyleModel",
            "_view_count": null,
            "_view_module": "@jupyter-widgets/base",
            "_view_module_version": "1.2.0",
            "_view_name": "StyleView",
            "bar_color": null,
            "description_width": ""
          }
        },
        "f5b72555116c465ab393a29880bfa4dd": {
          "model_module": "@jupyter-widgets/base",
          "model_name": "LayoutModel",
          "model_module_version": "1.2.0",
          "state": {
            "_model_module": "@jupyter-widgets/base",
            "_model_module_version": "1.2.0",
            "_model_name": "LayoutModel",
            "_view_count": null,
            "_view_module": "@jupyter-widgets/base",
            "_view_module_version": "1.2.0",
            "_view_name": "LayoutView",
            "align_content": null,
            "align_items": null,
            "align_self": null,
            "border": null,
            "bottom": null,
            "display": null,
            "flex": null,
            "flex_flow": null,
            "grid_area": null,
            "grid_auto_columns": null,
            "grid_auto_flow": null,
            "grid_auto_rows": null,
            "grid_column": null,
            "grid_gap": null,
            "grid_row": null,
            "grid_template_areas": null,
            "grid_template_columns": null,
            "grid_template_rows": null,
            "height": null,
            "justify_content": null,
            "justify_items": null,
            "left": null,
            "margin": null,
            "max_height": null,
            "max_width": null,
            "min_height": null,
            "min_width": null,
            "object_fit": null,
            "object_position": null,
            "order": null,
            "overflow": null,
            "overflow_x": null,
            "overflow_y": null,
            "padding": null,
            "right": null,
            "top": null,
            "visibility": null,
            "width": null
          }
        },
        "ad232ea1233045b9b0c137ccec6a1424": {
          "model_module": "@jupyter-widgets/controls",
          "model_name": "DescriptionStyleModel",
          "model_module_version": "1.5.0",
          "state": {
            "_model_module": "@jupyter-widgets/controls",
            "_model_module_version": "1.5.0",
            "_model_name": "DescriptionStyleModel",
            "_view_count": null,
            "_view_module": "@jupyter-widgets/base",
            "_view_module_version": "1.2.0",
            "_view_name": "StyleView",
            "description_width": ""
          }
        }
      }
    }
  },
  "cells": [
    {
      "cell_type": "code",
      "execution_count": null,
      "metadata": {
        "id": "7rS-e62D-wLk"
      },
      "outputs": [],
      "source": [
        "from scipy import sparse\n",
        "from sklearn import linear_model\n",
        "from collections import Counter\n",
        "import numpy as np\n",
        "import operator\n",
        "import nltk\n",
        "import math\n",
        "from scipy.stats import norm"
      ]
    },
    {
      "cell_type": "code",
      "source": [
        "!python -m nltk.downloader punkt"
      ],
      "metadata": {
        "colab": {
          "base_uri": "https://localhost:8080/"
        },
        "id": "bnsYT-PUku5d",
        "outputId": "c8a20999-d33f-4d91-cd85-c24526dc80dc"
      },
      "execution_count": null,
      "outputs": [
        {
          "output_type": "stream",
          "name": "stdout",
          "text": [
            "/usr/lib/python3.7/runpy.py:125: RuntimeWarning: 'nltk.downloader' found in sys.modules after import of package 'nltk', but prior to execution of 'nltk.downloader'; this may result in unpredictable behaviour\n",
            "  warn(RuntimeWarning(msg))\n",
            "[nltk_data] Downloading package punkt to /root/nltk_data...\n",
            "[nltk_data]   Unzipping tokenizers/punkt.zip.\n"
          ]
        }
      ]
    },
    {
      "cell_type": "markdown",
      "source": [
        "# Reddit Title Formality Classification\n",
        "In this notebook, we walk through three different models for our data: logistic regression, ordinal regression, and BERT classifier. We saw that the BERT classifier had the highest test accuracy of 40%. After we used the various models, we analyzed the BOW features from the logistic regression model and the confusion matrix from the BERT classifier."
      ],
      "metadata": {
        "id": "ko8YwD588L56"
      }
    },
    {
      "cell_type": "code",
      "source": [
        "# paths to our data files\n",
        "\n",
        "from google.colab import drive\n",
        "drive.mount('/content/drive')\n",
        "\n",
        "train_path = \"/content/drive/My Drive/content/train.txt\"\n",
        "dev_path = \"/content/drive/My Drive/content/dev.txt\"\n",
        "test_path = \"/content/drive/My Drive/content/test.txt\""
      ],
      "metadata": {
        "id": "yy8HlWhfyxgZ",
        "colab": {
          "base_uri": "https://localhost:8080/"
        },
        "outputId": "2d5b9351-20a5-4f85-d546-c91f91e4eb97"
      },
      "execution_count": null,
      "outputs": [
        {
          "output_type": "stream",
          "name": "stdout",
          "text": [
            "Mounted at /content/drive\n"
          ]
        }
      ]
    },
    {
      "cell_type": "code",
      "source": [
        "# useful functions\n",
        "\n",
        "def binary_bow_featurize(text):\n",
        "    feats = {}\n",
        "    words = nltk.word_tokenize(text)\n",
        "\n",
        "    for word in words:\n",
        "        word=word.lower()\n",
        "        feats[word]=1\n",
        "            \n",
        "    return feats\n",
        "\n",
        "def confidence_intervals(accuracy, n, significance_level):\n",
        "    critical_value=(1-significance_level)/2\n",
        "    z_alpha=-1*norm.ppf(critical_value)\n",
        "    se=math.sqrt((accuracy*(1-accuracy))/n)\n",
        "    return accuracy-(se*z_alpha), accuracy+(se*z_alpha)"
      ],
      "metadata": {
        "id": "QNcoupxZynE2"
      },
      "execution_count": null,
      "outputs": []
    },
    {
      "cell_type": "markdown",
      "source": [
        "# Logistic Regression"
      ],
      "metadata": {
        "id": "M_Cb3hhEyKuG"
      }
    },
    {
      "cell_type": "code",
      "source": [
        "def load_data(filename):\n",
        "    X = []\n",
        "    Y = []\n",
        "    with open(filename, encoding=\"utf-8\") as file:\n",
        "        for line in file:\n",
        "            cols = line.split(\"\\t\")\n",
        "            idd = cols[0]\n",
        "            label = cols[1].lstrip().rstrip()\n",
        "            text = cols[2]\n",
        "\n",
        "            X.append(text)\n",
        "            Y.append(label)\n",
        "\n",
        "    return X, Y"
      ],
      "metadata": {
        "id": "oJKZePDvyP5Y"
      },
      "execution_count": null,
      "outputs": []
    },
    {
      "cell_type": "code",
      "source": [
        "class Classifier:\n",
        "\n",
        "    def __init__(self, feature_method, trainX, trainY, devX, devY, testX, testY):\n",
        "        self.feature_vocab = {}\n",
        "        self.feature_method = feature_method\n",
        "        self.min_feature_count=2\n",
        "        self.log_reg = None\n",
        "\n",
        "        self.trainY=trainY\n",
        "        self.devY=devY\n",
        "        self.testY=testY\n",
        "        \n",
        "        self.trainX = self.process(trainX, training=True)\n",
        "        self.devX = self.process(devX, training=False)\n",
        "        self.testX = self.process(testX, training=False)\n",
        "\n",
        "    # Featurize entire dataset\n",
        "    def featurize(self, data):\n",
        "        featurized_data = []\n",
        "        for text in data:\n",
        "            feats = self.feature_method(text)\n",
        "            featurized_data.append(feats)\n",
        "        return featurized_data\n",
        "\n",
        "    # Read dataset and returned featurized representation as sparse matrix + label array\n",
        "    def process(self, X_data, training = False):\n",
        "        \n",
        "        data = self.featurize(X_data)\n",
        "\n",
        "        if training:\n",
        "            fid = 0\n",
        "            feature_doc_count = Counter()\n",
        "            for feats in data:\n",
        "                for feat in feats:\n",
        "                    feature_doc_count[feat]+= 1\n",
        "\n",
        "            for feat in feature_doc_count:\n",
        "                if feature_doc_count[feat] >= self.min_feature_count:\n",
        "                    self.feature_vocab[feat] = fid\n",
        "                    fid += 1\n",
        "\n",
        "        F = len(self.feature_vocab)\n",
        "        D = len(data)\n",
        "        X = sparse.dok_matrix((D, F))\n",
        "        for idx, feats in enumerate(data):\n",
        "            for feat in feats:\n",
        "                if feat in self.feature_vocab:\n",
        "                    X[idx, self.feature_vocab[feat]] = feats[feat]\n",
        "\n",
        "        return X\n",
        "\n",
        "\n",
        "    # Train model and evaluate on held-out data\n",
        "    def train(self):\n",
        "        (D,F) = self.trainX.shape\n",
        "        best_dev_accuracy=0\n",
        "        best_model=None\n",
        "        for C in [0.1, 1, 10, 100]:\n",
        "            self.log_reg = linear_model.LogisticRegression(C = C, max_iter=1000)\n",
        "            self.log_reg.fit(self.trainX, self.trainY)\n",
        "            training_accuracy = self.log_reg.score(self.trainX, self.trainY)\n",
        "            development_accuracy = self.log_reg.score(self.devX, self.devY)\n",
        "            if development_accuracy > best_dev_accuracy:\n",
        "                best_dev_accuracy=development_accuracy\n",
        "                best_model=self.log_reg\n",
        "\n",
        "#             print(\"C: %s, Train accuracy: %.3f, Dev accuracy: %.3f\" % (C, training_accuracy, development_accuracy))\n",
        "\n",
        "        self.log_reg=best_model\n",
        "        \n",
        "\n",
        "    def test(self):\n",
        "        return self.log_reg.score(self.testX, self.testY)\n",
        "        \n",
        "\n",
        "    def printWeights(self, n=10):\n",
        "\n",
        "        reverse_vocab=[None]*len(self.log_reg.coef_[0])\n",
        "        for k in self.feature_vocab:\n",
        "            reverse_vocab[self.feature_vocab[k]]=k\n",
        "\n",
        "        # binary\n",
        "        if len(self.log_reg.classes_) == 2:\n",
        "              weights=self.log_reg.coef_[0]\n",
        "\n",
        "              cat=self.log_reg.classes_[1]\n",
        "              for feature, weight in list(reversed(sorted(zip(reverse_vocab, weights), key = operator.itemgetter(1))))[:n]:\n",
        "                  print(\"%s\\t%.3f\\t%s\" % (cat, weight, feature))\n",
        "              print()\n",
        "\n",
        "              cat=self.log_reg.classes_[0]\n",
        "              for feature, weight in list(sorted(zip(reverse_vocab, weights), key = operator.itemgetter(1)))[:n]:\n",
        "                  print(\"%s\\t%.3f\\t%s\" % (cat, weight, feature))\n",
        "              print()\n",
        "\n",
        "        # multiclass\n",
        "        else:\n",
        "          for i, cat in enumerate(self.log_reg.classes_):\n",
        "\n",
        "              weights=self.log_reg.coef_[i]\n",
        "\n",
        "              for feature, weight in list(reversed(sorted(zip(reverse_vocab, weights), key = operator.itemgetter(1))))[:n]:\n",
        "                  print(\"%s\\t%.3f\\t%s\" % (cat, weight, feature))\n",
        "              print()\n",
        "\n",
        "            "
      ],
      "metadata": {
        "id": "PKhN6ndpyYse"
      },
      "execution_count": null,
      "outputs": []
    },
    {
      "cell_type": "code",
      "source": [
        "def run_logistic(trainingFile, devFile, testFile):\n",
        "    trainX, trainY=load_data(trainingFile)\n",
        "    devX, devY=load_data(devFile)\n",
        "    testX, testY=load_data(testFile)\n",
        "    \n",
        "    simple_classifier = Classifier(binary_bow_featurize, trainX, trainY, devX, devY, testX, testY)\n",
        "    simple_classifier.train()\n",
        "    accuracy=simple_classifier.test()\n",
        "    \n",
        "    lower, upper=confidence_intervals(accuracy, len(testY), .95)\n",
        "    print(\"Test accuracy for best dev model: %.3f, 95%% CIs: [%.3f %.3f]\\n\" % (accuracy, lower, upper))\n",
        "\n",
        "    simple_classifier.printWeights()"
      ],
      "metadata": {
        "id": "vQEbK7IbybEq"
      },
      "execution_count": null,
      "outputs": []
    },
    {
      "cell_type": "code",
      "source": [
        "trainingFile = train_path\n",
        "devFile = dev_path\n",
        "testFile = test_path\n",
        "    \n",
        "run_logistic(trainingFile, devFile, testFile)"
      ],
      "metadata": {
        "id": "j4VJ_lKPybdc",
        "colab": {
          "base_uri": "https://localhost:8080/"
        },
        "outputId": "3bf7e860-e441-4baa-adb5-d8abba142cd6"
      },
      "execution_count": null,
      "outputs": [
        {
          "output_type": "stream",
          "name": "stdout",
          "text": [
            "Test accuracy for best dev model: 0.255, 95% CIs: [0.195 0.315]\n",
            "\n",
            "1\t0.179\tfucking\n",
            "1\t0.168\tfuck\n",
            "1\t0.159\tis\n",
            "1\t0.153\tweek\n",
            "1\t0.093\tf\n",
            "1\t0.093\tship\n",
            "1\t0.092\tposted\n",
            "1\t0.092\tcry\n",
            "1\t0.092\t<\n",
            "1\t0.091\tbanned\n",
            "\n",
            "2\t0.260\tfuck\n",
            "2\t0.230\tnut\n",
            "2\t0.220\tthen\n",
            "2\t0.220\tcan\n",
            "2\t0.217\tan\n",
            "2\t0.194\tmissing\n",
            "2\t0.192\t?\n",
            "2\t0.185\thelp\n",
            "2\t0.183\telse\n",
            "2\t0.180\tare\n",
            "\n",
            "3\t0.359\tbe\n",
            "3\t0.355\tmy\n",
            "3\t0.254\t:\n",
            "3\t0.253\tfinals\n",
            "3\t0.224\tlike\n",
            "3\t0.223\tthe\n",
            "3\t0.211\tama\n",
            "3\t0.200\tpost\n",
            "3\t0.197\tfun\n",
            "3\t0.183\tsome\n",
            "\n",
            "4\t0.316\ta\n",
            "4\t0.256\tto\n",
            "4\t0.249\tgirl\n",
            "4\t0.244\tgood\n",
            "4\t0.231\tstudents\n",
            "4\t0.230\tmade\n",
            "4\t0.208\tknow\n",
            "4\t0.200\tevery\n",
            "4\t0.199\tall\n",
            "4\t0.167\twhat\n",
            "\n",
            "5\t0.770\t!\n",
            "5\t0.501\tfrom\n",
            "5\t0.483\ti\n",
            "5\t0.250\tberkeley\n",
            "5\t0.242\tview\n",
            "5\t0.222\tin\n",
            "5\t0.220\tyour\n",
            "5\t0.216\t``\n",
            "5\t0.213\t&\n",
            "5\t0.205\tcal\n",
            "\n",
            "6\t0.523\t.\n",
            "6\t0.310\tdo\n",
            "6\t0.306\ttime\n",
            "6\t0.296\t,\n",
            "6\t0.288\ttheir\n",
            "6\t0.248\tto\n",
            "6\t0.233\t2019\n",
            "6\t0.215\ton\n",
            "6\t0.211\tcal\n",
            "6\t0.196\ttop\n",
            "\n",
            "7\t0.439\t.\n",
            "7\t0.398\tuc\n",
            "7\t0.350\tat\n",
            "7\t0.329\tberkeley\n",
            "7\t0.308\t's\n",
            "7\t0.262\tpark\n",
            "7\t0.257\tof\n",
            "7\t0.244\tnew\n",
            "7\t0.243\tcalifornia\n",
            "7\t0.215\twill\n",
            "\n"
          ]
        }
      ]
    },
    {
      "cell_type": "markdown",
      "source": [
        "# Ordinal Regression\n"
      ],
      "metadata": {
        "id": "okyusoxzhQ8b"
      }
    },
    {
      "cell_type": "code",
      "source": [
        "def load_ordinal_data(filename, ordering):\n",
        "    X = []\n",
        "    Y = []\n",
        "    orig_Y=[]\n",
        "    for ordinal in ordering:\n",
        "        Y.append([])\n",
        "        \n",
        "    with open(filename, encoding=\"utf-8\") as file:\n",
        "        for line in file:\n",
        "            cols = line.split(\"\\t\")\n",
        "            idd = cols[0]\n",
        "            label = cols[1].lstrip().rstrip()\n",
        "            text = cols[2]\n",
        "\n",
        "            X.append(text)\n",
        "            \n",
        "            index=ordering.index(label)\n",
        "            for i in range(len(ordering)):\n",
        "                if index > i:\n",
        "                    Y[i].append(1)\n",
        "                else:\n",
        "                    Y[i].append(0)\n",
        "            orig_Y.append(label)\n",
        "                    \n",
        "    return X, Y, orig_Y"
      ],
      "metadata": {
        "id": "C59Ds6dahVBj"
      },
      "execution_count": null,
      "outputs": []
    },
    {
      "cell_type": "code",
      "source": [
        "class OrdinalClassifier:\n",
        "\n",
        "    def __init__(self, ordinal_values, feature_method, trainX, trainY, devX, devY, testX, testY, orig_trainY, orig_devY, orig_testY):\n",
        "        self.ordinal_values=ordinal_values\n",
        "        self.feature_vocab = {}\n",
        "        self.feature_method = feature_method\n",
        "        self.min_feature_count=2\n",
        "        self.log_regs = [None]* (len(self.ordinal_values)-1)\n",
        "\n",
        "        self.trainY=trainY\n",
        "        self.devY=devY\n",
        "        self.testY=testY\n",
        "        \n",
        "        self.orig_trainY=orig_trainY\n",
        "        self.orig_devY=orig_devY\n",
        "        self.orig_testY=orig_testY\n",
        "        \n",
        "        self.trainX = self.process(trainX, training=True)\n",
        "        self.devX = self.process(devX, training=False)\n",
        "        self.testX = self.process(testX, training=False)\n",
        "\n",
        "    # Featurize entire dataset\n",
        "    def featurize(self, data):\n",
        "        featurized_data = []\n",
        "        for text in data:\n",
        "            feats = self.feature_method(text)\n",
        "            featurized_data.append(feats)\n",
        "        return featurized_data\n",
        "\n",
        "    # Read dataset and returned featurized representation as sparse matrix + label array\n",
        "    def process(self, X_data, training = False):\n",
        "        data = self.featurize(X_data)\n",
        "        if training:\n",
        "            fid = 0\n",
        "            feature_doc_count = Counter()\n",
        "            for feats in data:\n",
        "                for feat in feats:\n",
        "                    feature_doc_count[feat]+= 1\n",
        "\n",
        "            for feat in feature_doc_count:\n",
        "                if feature_doc_count[feat] >= self.min_feature_count:\n",
        "                    self.feature_vocab[feat] = fid\n",
        "                    fid += 1\n",
        "\n",
        "        F = len(self.feature_vocab)\n",
        "        D = len(data)\n",
        "        X = sparse.dok_matrix((D, F))\n",
        "        for idx, feats in enumerate(data):\n",
        "            for feat in feats:\n",
        "                if feat in self.feature_vocab:\n",
        "                    X[idx, self.feature_vocab[feat]] = feats[feat]\n",
        "\n",
        "        return X\n",
        "\n",
        "    def train(self):\n",
        "        (D,F) = self.trainX.shape\n",
        "\n",
        "        for idx, ordinal_value in enumerate(self.ordinal_values[:-1]):\n",
        "            best_dev_accuracy=0\n",
        "            best_model=None\n",
        "            for C in [0.1, 1, 10, 100]:\n",
        "                log_reg = linear_model.LogisticRegression(C = C, max_iter=1000)\n",
        "                log_reg.fit(self.trainX, self.trainY[idx])\n",
        "                development_accuracy = log_reg.score(self.devX, self.devY[idx])\n",
        "                if development_accuracy > best_dev_accuracy:\n",
        "                    best_dev_accuracy=development_accuracy\n",
        "                    best_model=log_reg\n",
        "\n",
        "            self.log_regs[idx]=best_model\n",
        "        \n",
        "    def test(self):\n",
        "        cor=tot=0\n",
        "        counts=Counter()\n",
        "        preds=[None]*(len(self.ordinal_values)-1)\n",
        "        for idx, ordinal_value in enumerate(self.ordinal_values[:-1]):\n",
        "            preds[idx]=self.log_regs[idx].predict_proba(self.testX)[:,1]\n",
        "        \n",
        "        preds=np.array(preds)\n",
        "            \n",
        "        for data_point in range(len(preds[0])):\n",
        "            ordinal_preds=np.zeros(len(self.ordinal_values))\n",
        "            for ordinal in range(len(self.ordinal_values)-1):\n",
        "                if ordinal == 0:\n",
        "                    ordinal_preds[ordinal]=1-preds[ordinal][data_point]\n",
        "                else:\n",
        "                    ordinal_preds[ordinal]=preds[ordinal-1][data_point]-preds[ordinal][data_point]\n",
        "\n",
        "            ordinal_preds[len(self.ordinal_values)-1]=preds[len(preds)-1][data_point]\n",
        "\n",
        "            prediction=np.argmax(ordinal_preds)\n",
        "            counts[prediction]+=1\n",
        "            if prediction == self.ordinal_values.index(self.orig_testY[data_point]):\n",
        "                cor+=1\n",
        "            tot+=1\n",
        "\n",
        "        return cor/tot"
      ],
      "metadata": {
        "id": "m0pYxY9biCjt"
      },
      "execution_count": null,
      "outputs": []
    },
    {
      "cell_type": "code",
      "source": [
        "def run_ordinal(trainingFile, devFile, testFile, ordinal_values):\n",
        "    trainX, trainY, orig_trainY=load_ordinal_data(trainingFile, ordinal_values)\n",
        "    devX, devY, orig_devY=load_ordinal_data(devFile, ordinal_values)\n",
        "    testX, testY, orig_testY=load_ordinal_data(testFile, ordinal_values)\n",
        "    \n",
        "    simple_classifier = OrdinalClassifier(ordinal_values, binary_bow_featurize, trainX, trainY, devX, devY, testX, testY, orig_trainY, orig_devY, orig_testY)\n",
        "    simple_classifier.train()\n",
        "    accuracy=simple_classifier.test()\n",
        "\n",
        "    lower, upper=confidence_intervals(accuracy, len(testY[0]), .95)\n",
        "    print(\"Test accuracy for best dev model: %.3f, 95%% CIs: [%.3f %.3f]\\n\" % (accuracy, lower, upper))"
      ],
      "metadata": {
        "id": "VOr3xs7IkQ2v"
      },
      "execution_count": null,
      "outputs": []
    },
    {
      "cell_type": "code",
      "source": [
        "trainingFile = train_path\n",
        "devFile = dev_path\n",
        "testFile = test_path\n",
        "    \n",
        "# ordinal values must be in order *as strings* from smallest to largest, e.g.:\n",
        "# ordinal_values=[\"G\", \"PG\", \"PG-13\", \"R\"]\n",
        "\n",
        "ordinal_values=[\"1\", \"2\", \"3\", \"4\", \"5\", \"6\", \"7\"]\n",
        "\n",
        "run_ordinal(trainingFile, devFile, testFile, ordinal_values)"
      ],
      "metadata": {
        "id": "gL4Fc9OFkUAf",
        "colab": {
          "base_uri": "https://localhost:8080/"
        },
        "outputId": "ef962581-59a4-4611-c0cd-e98ef4499bd1"
      },
      "execution_count": null,
      "outputs": [
        {
          "output_type": "stream",
          "name": "stdout",
          "text": [
            "Test accuracy for best dev model: 0.290, 95% CIs: [0.227 0.353]\n",
            "\n"
          ]
        }
      ]
    },
    {
      "cell_type": "markdown",
      "source": [
        "### BERT Classifier"
      ],
      "metadata": {
        "id": "Q0ituXRIlePQ"
      }
    },
    {
      "cell_type": "code",
      "source": [
        "!pip install transformers"
      ],
      "metadata": {
        "id": "4I0XM1-klhAV",
        "colab": {
          "base_uri": "https://localhost:8080/"
        },
        "outputId": "03a9e10f-4ffd-4f3a-9157-9ecdb800e938"
      },
      "execution_count": null,
      "outputs": [
        {
          "output_type": "stream",
          "name": "stdout",
          "text": [
            "Collecting transformers\n",
            "  Downloading transformers-4.18.0-py3-none-any.whl (4.0 MB)\n",
            "\u001b[K     |████████████████████████████████| 4.0 MB 5.1 MB/s \n",
            "\u001b[?25hRequirement already satisfied: numpy>=1.17 in /usr/local/lib/python3.7/dist-packages (from transformers) (1.21.6)\n",
            "Requirement already satisfied: importlib-metadata in /usr/local/lib/python3.7/dist-packages (from transformers) (4.11.3)\n",
            "Requirement already satisfied: tqdm>=4.27 in /usr/local/lib/python3.7/dist-packages (from transformers) (4.64.0)\n",
            "Collecting huggingface-hub<1.0,>=0.1.0\n",
            "  Downloading huggingface_hub-0.5.1-py3-none-any.whl (77 kB)\n",
            "\u001b[K     |████████████████████████████████| 77 kB 4.6 MB/s \n",
            "\u001b[?25hCollecting pyyaml>=5.1\n",
            "  Downloading PyYAML-6.0-cp37-cp37m-manylinux_2_5_x86_64.manylinux1_x86_64.manylinux_2_12_x86_64.manylinux2010_x86_64.whl (596 kB)\n",
            "\u001b[K     |████████████████████████████████| 596 kB 47.1 MB/s \n",
            "\u001b[?25hRequirement already satisfied: packaging>=20.0 in /usr/local/lib/python3.7/dist-packages (from transformers) (21.3)\n",
            "Requirement already satisfied: requests in /usr/local/lib/python3.7/dist-packages (from transformers) (2.23.0)\n",
            "Requirement already satisfied: regex!=2019.12.17 in /usr/local/lib/python3.7/dist-packages (from transformers) (2019.12.20)\n",
            "Requirement already satisfied: filelock in /usr/local/lib/python3.7/dist-packages (from transformers) (3.6.0)\n",
            "Collecting tokenizers!=0.11.3,<0.13,>=0.11.1\n",
            "  Downloading tokenizers-0.12.1-cp37-cp37m-manylinux_2_12_x86_64.manylinux2010_x86_64.whl (6.6 MB)\n",
            "\u001b[K     |████████████████████████████████| 6.6 MB 25.6 MB/s \n",
            "\u001b[?25hCollecting sacremoses\n",
            "  Downloading sacremoses-0.0.49-py3-none-any.whl (895 kB)\n",
            "\u001b[K     |████████████████████████████████| 895 kB 33.0 MB/s \n",
            "\u001b[?25hRequirement already satisfied: typing-extensions>=3.7.4.3 in /usr/local/lib/python3.7/dist-packages (from huggingface-hub<1.0,>=0.1.0->transformers) (4.1.1)\n",
            "Requirement already satisfied: pyparsing!=3.0.5,>=2.0.2 in /usr/local/lib/python3.7/dist-packages (from packaging>=20.0->transformers) (3.0.8)\n",
            "Requirement already satisfied: zipp>=0.5 in /usr/local/lib/python3.7/dist-packages (from importlib-metadata->transformers) (3.8.0)\n",
            "Requirement already satisfied: idna<3,>=2.5 in /usr/local/lib/python3.7/dist-packages (from requests->transformers) (2.10)\n",
            "Requirement already satisfied: chardet<4,>=3.0.2 in /usr/local/lib/python3.7/dist-packages (from requests->transformers) (3.0.4)\n",
            "Requirement already satisfied: certifi>=2017.4.17 in /usr/local/lib/python3.7/dist-packages (from requests->transformers) (2021.10.8)\n",
            "Requirement already satisfied: urllib3!=1.25.0,!=1.25.1,<1.26,>=1.21.1 in /usr/local/lib/python3.7/dist-packages (from requests->transformers) (1.24.3)\n",
            "Requirement already satisfied: joblib in /usr/local/lib/python3.7/dist-packages (from sacremoses->transformers) (1.1.0)\n",
            "Requirement already satisfied: six in /usr/local/lib/python3.7/dist-packages (from sacremoses->transformers) (1.15.0)\n",
            "Requirement already satisfied: click in /usr/local/lib/python3.7/dist-packages (from sacremoses->transformers) (7.1.2)\n",
            "Installing collected packages: pyyaml, tokenizers, sacremoses, huggingface-hub, transformers\n",
            "  Attempting uninstall: pyyaml\n",
            "    Found existing installation: PyYAML 3.13\n",
            "    Uninstalling PyYAML-3.13:\n",
            "      Successfully uninstalled PyYAML-3.13\n",
            "Successfully installed huggingface-hub-0.5.1 pyyaml-6.0 sacremoses-0.0.49 tokenizers-0.12.1 transformers-4.18.0\n"
          ]
        }
      ]
    },
    {
      "cell_type": "code",
      "source": [
        "from transformers import BertModel, BertTokenizer\n",
        "import nltk\n",
        "import torch\n",
        "import torch.nn as nn\n",
        "import numpy as np\n",
        "import random\n",
        "from scipy.stats import norm\n",
        "import math"
      ],
      "metadata": {
        "id": "HQabioDjl0II"
      },
      "execution_count": null,
      "outputs": []
    },
    {
      "cell_type": "code",
      "source": [
        "device = torch.device(\"cuda\" if torch.cuda.is_available() else \"cpu\")\n",
        "print(\"Running on {}\".format(device))"
      ],
      "metadata": {
        "id": "9PtAlMRbl2mR",
        "colab": {
          "base_uri": "https://localhost:8080/"
        },
        "outputId": "4744586d-8bc0-4f21-b910-5f73e515cd7d"
      },
      "execution_count": null,
      "outputs": [
        {
          "output_type": "stream",
          "name": "stdout",
          "text": [
            "Running on cuda\n"
          ]
        }
      ]
    },
    {
      "cell_type": "code",
      "source": [
        "def read_labels(filename):\n",
        "    labels={}\n",
        "    with open(filename) as file:\n",
        "        for line in file:\n",
        "            cols = line.split(\"\\t\")\n",
        "            label = cols[1]\n",
        "            if label not in labels:\n",
        "                labels[label]=len(labels)\n",
        "    return labels"
      ],
      "metadata": {
        "id": "Ohqi6nOol_eZ"
      },
      "execution_count": null,
      "outputs": []
    },
    {
      "cell_type": "code",
      "source": [
        "def read_data(filename, labels, max_data_points=1000):\n",
        "  \n",
        "    data = []\n",
        "    data_labels = []\n",
        "    with open(filename) as file:\n",
        "        for line in file:\n",
        "            cols = line.split(\"\\t\")\n",
        "            label = cols[1]\n",
        "            text = cols[2]\n",
        "            \n",
        "            data.append(text)\n",
        "            data_labels.append(labels[label])\n",
        "            \n",
        "\n",
        "    # shuffle the data\n",
        "    tmp = list(zip(data, data_labels))\n",
        "    random.shuffle(tmp)\n",
        "    data, data_labels = zip(*tmp)\n",
        "    \n",
        "    if max_data_points is None:\n",
        "        return data, data_labels\n",
        "    \n",
        "    return data[:max_data_points], data_labels[:max_data_points]"
      ],
      "metadata": {
        "id": "jV9SBNTgmDvN"
      },
      "execution_count": null,
      "outputs": []
    },
    {
      "cell_type": "code",
      "source": [
        "labels= read_labels(train_path)\n",
        "train_x, train_y=read_data(train_path, labels, max_data_points=None)\n",
        "dev_x, dev_y=read_data(dev_path, labels, max_data_points=None)\n",
        "test_x, test_y=read_data(test_path, labels, max_data_points=None)"
      ],
      "metadata": {
        "id": "LrQdcXxv91_U"
      },
      "execution_count": null,
      "outputs": []
    },
    {
      "cell_type": "code",
      "source": [
        "# needed to retrieve the true labels\n",
        "reverse_labels = {val:key for key, val in labels.items()}\n",
        "reverse_labels"
      ],
      "metadata": {
        "id": "h-3Tqh3S_TAm",
        "colab": {
          "base_uri": "https://localhost:8080/"
        },
        "outputId": "86b0b50e-693c-43dc-88a3-e6f283d301af"
      },
      "execution_count": null,
      "outputs": [
        {
          "output_type": "execute_result",
          "data": {
            "text/plain": [
              "{0: '2', 1: '6', 2: '3', 3: '4', 4: '5', 5: '1', 6: '7'}"
            ]
          },
          "metadata": {},
          "execution_count": 19
        }
      ]
    },
    {
      "cell_type": "code",
      "source": [
        "# we see that the read labels function changes our true label, we must use our reverse_labels dictionary to return the true label\n",
        "list(zip(test_x, test_y))[0], list(zip(test_x, [reverse_labels[val] for val in test_y]))[0]"
      ],
      "metadata": {
        "id": "cKJI7_K9_Iia",
        "colab": {
          "base_uri": "https://localhost:8080/"
        },
        "outputId": "dd1767d9-988a-4399-a1d5-3c139193f010"
      },
      "execution_count": null,
      "outputs": [
        {
          "output_type": "execute_result",
          "data": {
            "text/plain": [
              "(('CalDining needs to change.\\n', 1), ('CalDining needs to change.\\n', '6'))"
            ]
          },
          "metadata": {},
          "execution_count": 20
        }
      ]
    },
    {
      "cell_type": "code",
      "source": [
        "def evaluate(model, x, y):\n",
        "    model.eval()\n",
        "    corr = 0.\n",
        "    total = 0.\n",
        "    predictions = [] # new code\n",
        "    with torch.no_grad():\n",
        "        for x, y in zip(x, y):\n",
        "            y_preds=model.forward(x)\n",
        "            for idx, y_pred in enumerate(y_preds):\n",
        "                prediction=torch.argmax(y_pred)\n",
        "                predictions.append(prediction.item())\n",
        "                if prediction == y[idx]:\n",
        "                    corr += 1.\n",
        "                total+=1                          \n",
        "    return corr/total, total, predictions"
      ],
      "metadata": {
        "id": "obez_c9ImTPE"
      },
      "execution_count": null,
      "outputs": []
    },
    {
      "cell_type": "code",
      "source": [
        "class BERTClassifier(nn.Module):\n",
        "\n",
        "    def __init__(self, bert_model_name, params):\n",
        "        super().__init__()\n",
        "    \n",
        "        self.model_name=bert_model_name\n",
        "        self.tokenizer = BertTokenizer.from_pretrained(self.model_name, do_lower_case=params[\"doLowerCase\"], do_basic_tokenize=False)\n",
        "        self.bert = BertModel.from_pretrained(self.model_name)\n",
        "        \n",
        "        self.num_labels = params[\"label_length\"]\n",
        "\n",
        "        self.fc = nn.Linear(params[\"embedding_size\"], self.num_labels)\n",
        "\n",
        "    def get_batches(self, all_x, all_y, batch_size=32, max_toks=510):\n",
        "            \n",
        "        \"\"\" Get batches for input x, y data, with data tokenized according to the BERT tokenizer \n",
        "      (and limited to a maximum number of WordPiece tokens \"\"\"\n",
        "\n",
        "        batches_x=[]\n",
        "        batches_y=[]\n",
        "        \n",
        "        for i in range(0, len(all_x), batch_size):\n",
        "\n",
        "            current_batch=[]\n",
        "\n",
        "            x=all_x[i:i+batch_size]\n",
        "\n",
        "            batch_x = self.tokenizer(x, padding=True, truncation=True, return_tensors=\"pt\", max_length=max_toks)\n",
        "            batch_y=all_y[i:i+batch_size]\n",
        "\n",
        "            batches_x.append(batch_x.to(device))\n",
        "            batches_y.append(torch.LongTensor(batch_y).to(device))\n",
        "            \n",
        "        return batches_x, batches_y\n",
        "  \n",
        "\n",
        "    def forward(self, batch_x): \n",
        "    \n",
        "        bert_output = self.bert(input_ids=batch_x[\"input_ids\"],\n",
        "                         attention_mask=batch_x[\"attention_mask\"],\n",
        "                         token_type_ids=batch_x[\"token_type_ids\"],\n",
        "                         output_hidden_states=True)\n",
        "\n",
        "      # We're going to represent an entire document just by its [CLS] embedding (at position 0)\n",
        "      # And use the *last* layer output (layer -1)\n",
        "      # as a result of this choice, this embedding will be optimized for this purpose during the training process.\n",
        "      \n",
        "        bert_hidden_states = bert_output['hidden_states']\n",
        "\n",
        "        out = bert_hidden_states[-1][:,0,:]\n",
        "\n",
        "        out = self.fc(out)\n",
        "\n",
        "        return out.squeeze()"
      ],
      "metadata": {
        "id": "aXgId2tjmVGP"
      },
      "execution_count": null,
      "outputs": []
    },
    {
      "cell_type": "code",
      "source": [
        "def train(bert_model_name, model_filename, train_x, train_y, dev_x, dev_y, labels, embedding_size=768, doLowerCase=None):\n",
        "\n",
        "    bert_model = BERTClassifier(bert_model_name, params={\"label_length\": len(labels), \"doLowerCase\":doLowerCase, \"embedding_size\":embedding_size})\n",
        "    bert_model.to(device)\n",
        "\n",
        "    batch_x, batch_y = bert_model.get_batches(train_x, train_y)\n",
        "    dev_batch_x, dev_batch_y = bert_model.get_batches(dev_x, dev_y)\n",
        "\n",
        "    optimizer = torch.optim.Adam(bert_model.parameters(), lr=1e-5)\n",
        "    cross_entropy=nn.CrossEntropyLoss()\n",
        "\n",
        "    num_epochs=30\n",
        "    best_dev_acc = 0.\n",
        "    patience=5\n",
        "\n",
        "    best_epoch=0\n",
        "\n",
        "    for epoch in range(num_epochs):\n",
        "        bert_model.train()\n",
        "\n",
        "        # Train\n",
        "        for x, y in zip(batch_x, batch_y):\n",
        "            y_pred = bert_model.forward(x)\n",
        "            loss = cross_entropy(y_pred.view(-1, bert_model.num_labels), y.view(-1))\n",
        "            optimizer.zero_grad()\n",
        "            loss.backward()\n",
        "            optimizer.step()\n",
        "\n",
        "        # Evaluate\n",
        "        dev_accuracy, _, _=evaluate(bert_model, dev_batch_x, dev_batch_y)\n",
        "        if epoch % 1 == 0:\n",
        "            print(\"Epoch %s, dev accuracy: %.3f\" % (epoch, dev_accuracy))\n",
        "            if dev_accuracy > best_dev_acc:\n",
        "                torch.save(bert_model.state_dict(), model_filename)\n",
        "                best_dev_acc = dev_accuracy\n",
        "                best_epoch=epoch\n",
        "        if epoch - best_epoch > patience:\n",
        "            print(\"No improvement in dev accuracy over %s epochs; stopping training\" % patience)\n",
        "            break\n",
        "\n",
        "    bert_model.load_state_dict(torch.load(model_filename))\n",
        "    print(\"\\nBest Performing Model achieves dev accuracy of : %.3f\" % (best_dev_acc))\n",
        "    return bert_model"
      ],
      "metadata": {
        "id": "Pyd13JpsmakF"
      },
      "execution_count": null,
      "outputs": []
    },
    {
      "cell_type": "code",
      "source": [
        "# small BERT -- can run on laptop\n",
        "# bert_model_name=\"google/bert_uncased_L-2_H-128_A-2\"\n",
        "# model_filename=\"mybert.model\"\n",
        "# embedding_size=128\n",
        "# doLowerCase=True\n",
        "\n",
        "# bert-base -- slow on laptop; better on Colab\n",
        "bert_model_name=\"bert-base-cased\"\n",
        "model_filename=\"mybert.model\"\n",
        "embedding_size=768\n",
        "doLowerCase=False\n",
        "\n",
        "model=train(bert_model_name, model_filename, train_x, train_y, dev_x, dev_y, labels, embedding_size=embedding_size, doLowerCase=doLowerCase)"
      ],
      "metadata": {
        "id": "NC-qJBS9mdKt",
        "colab": {
          "base_uri": "https://localhost:8080/",
          "height": 573,
          "referenced_widgets": [
            "3b5d52f0def449acbd07caca432c7b86",
            "c093829aaed24e31b0918375ac7eba7b",
            "15296e101cbe486895eec7d2ada41e5e",
            "b8bb473a4d104a18a5f5aa69551b79db",
            "bc96abce52a74b91b27be3533a917993",
            "7486865b7d974a71a505f107cba840fb",
            "e8d760ae9dae4f10a22fc72a7d6da067",
            "fcbc3db492834843ab4e77c3a8156e1e",
            "fd13c46d22fc44fa957789ab73baf6a8",
            "6736e6728e754c2aa64b23d1e8179d40",
            "0d3747992da34d848ee04673151056db",
            "5ca4a11394354270bec310a589fa0789",
            "ae65dee4264145cd818dd313daaee85a",
            "b4a771d524c647ce8939f42d94a2b8e0",
            "6ade1433febb4311b70c8b0c7ba51d39",
            "7953717f15fc41d8a4f064df7ceb1921",
            "20e633ef56584d5cb49a1734cdca4400",
            "e46a6c9a4b08484faf22d5640475f0b0",
            "c4d7d9570c9d43ce84cd679dc7f78cdd",
            "7cb0d2cc9677410b84140a17340301e6",
            "aea72de75ee94bd1ad85523086f01d37",
            "469eb704eaf5466f94e686bf15496f4f",
            "6f59f999b145429784791837303b726b",
            "8c8cb88696a3425d88b5deb88715198d",
            "8f2cdaa003914d979aeab052c93cf0d8",
            "e4108372280948a987e86f56aaac13e3",
            "7e49ee1af614434ba31a51897c7dc1ed",
            "6ed8861308f64a3b9d32774102056bb5",
            "947e25b252cd4e4fae73c1418215b978",
            "0f229e32c1664872a6e16f7445a17051",
            "70b08f0e7ee44317a0f90c9d3b7fef7b",
            "1e75fa7d67814dca8bb6809545e73534",
            "b9f26b70079b4a1e8e3a720b33215991",
            "42c31bd8208144e8a847339d3243dd8e",
            "e2c8d2ca65ec47b58d8ebc6fe34b0bc2",
            "07dc504f494b49858b1057ecc0b9a3bc",
            "1532f2100f49404f8a35139c40a77007",
            "57605e38c2f94f4f9810a9c7c7d8c5d3",
            "56367938ce124fdbad5f399063da84d8",
            "3a4736d0ce404e418a640c6818d00ba6",
            "a12bb2ed468c4e6faa818eebe2ee36e5",
            "7ee9e57883204802a0e6c05d7eddd1df",
            "f5b72555116c465ab393a29880bfa4dd",
            "ad232ea1233045b9b0c137ccec6a1424"
          ]
        },
        "outputId": "36598173-1e23-4810-a052-e76695b990d3"
      },
      "execution_count": null,
      "outputs": [
        {
          "output_type": "display_data",
          "data": {
            "text/plain": [
              "Downloading:   0%|          | 0.00/208k [00:00<?, ?B/s]"
            ],
            "application/vnd.jupyter.widget-view+json": {
              "version_major": 2,
              "version_minor": 0,
              "model_id": "3b5d52f0def449acbd07caca432c7b86"
            }
          },
          "metadata": {}
        },
        {
          "output_type": "display_data",
          "data": {
            "text/plain": [
              "Downloading:   0%|          | 0.00/29.0 [00:00<?, ?B/s]"
            ],
            "application/vnd.jupyter.widget-view+json": {
              "version_major": 2,
              "version_minor": 0,
              "model_id": "5ca4a11394354270bec310a589fa0789"
            }
          },
          "metadata": {}
        },
        {
          "output_type": "display_data",
          "data": {
            "text/plain": [
              "Downloading:   0%|          | 0.00/570 [00:00<?, ?B/s]"
            ],
            "application/vnd.jupyter.widget-view+json": {
              "version_major": 2,
              "version_minor": 0,
              "model_id": "6f59f999b145429784791837303b726b"
            }
          },
          "metadata": {}
        },
        {
          "output_type": "display_data",
          "data": {
            "text/plain": [
              "Downloading:   0%|          | 0.00/416M [00:00<?, ?B/s]"
            ],
            "application/vnd.jupyter.widget-view+json": {
              "version_major": 2,
              "version_minor": 0,
              "model_id": "42c31bd8208144e8a847339d3243dd8e"
            }
          },
          "metadata": {}
        },
        {
          "output_type": "stream",
          "name": "stderr",
          "text": [
            "Some weights of the model checkpoint at bert-base-cased were not used when initializing BertModel: ['cls.predictions.decoder.weight', 'cls.predictions.transform.dense.bias', 'cls.predictions.transform.LayerNorm.bias', 'cls.predictions.transform.LayerNorm.weight', 'cls.seq_relationship.bias', 'cls.predictions.bias', 'cls.predictions.transform.dense.weight', 'cls.seq_relationship.weight']\n",
            "- This IS expected if you are initializing BertModel from the checkpoint of a model trained on another task or with another architecture (e.g. initializing a BertForSequenceClassification model from a BertForPreTraining model).\n",
            "- This IS NOT expected if you are initializing BertModel from the checkpoint of a model that you expect to be exactly identical (initializing a BertForSequenceClassification model from a BertForSequenceClassification model).\n"
          ]
        },
        {
          "output_type": "stream",
          "name": "stdout",
          "text": [
            "Epoch 0, dev accuracy: 0.240\n",
            "Epoch 1, dev accuracy: 0.260\n",
            "Epoch 2, dev accuracy: 0.250\n",
            "Epoch 3, dev accuracy: 0.270\n",
            "Epoch 4, dev accuracy: 0.280\n",
            "Epoch 5, dev accuracy: 0.305\n",
            "Epoch 6, dev accuracy: 0.310\n",
            "Epoch 7, dev accuracy: 0.305\n",
            "Epoch 8, dev accuracy: 0.310\n",
            "Epoch 9, dev accuracy: 0.300\n",
            "Epoch 10, dev accuracy: 0.325\n",
            "Epoch 11, dev accuracy: 0.330\n",
            "Epoch 12, dev accuracy: 0.315\n",
            "Epoch 13, dev accuracy: 0.310\n",
            "Epoch 14, dev accuracy: 0.310\n",
            "Epoch 15, dev accuracy: 0.305\n",
            "Epoch 16, dev accuracy: 0.320\n",
            "Epoch 17, dev accuracy: 0.310\n",
            "No improvement in dev accuracy over 5 epochs; stopping training\n",
            "\n",
            "Best Performing Model achieves dev accuracy of : 0.330\n"
          ]
        }
      ]
    },
    {
      "cell_type": "code",
      "source": [
        "test_batch_x, test_batch_y = model.get_batches(test_x, test_y)\n",
        "accuracy, test_n, predictions=evaluate(model, test_batch_x, test_batch_y)\n",
        "\n",
        "lower, upper=confidence_intervals(accuracy, test_n, .95)\n",
        "print(\"Test accuracy for best dev model: %.3f, 95%% CIs: [%.3f %.3f]\\n\" % (accuracy, lower, upper))"
      ],
      "metadata": {
        "id": "roDtYoh2mh74",
        "colab": {
          "base_uri": "https://localhost:8080/"
        },
        "outputId": "edbfb999-42a6-4597-d6cb-57a0e675e543"
      },
      "execution_count": null,
      "outputs": [
        {
          "output_type": "stream",
          "name": "stdout",
          "text": [
            "Test accuracy for best dev model: 0.375, 95% CIs: [0.308 0.442]\n",
            "\n"
          ]
        }
      ]
    },
    {
      "cell_type": "markdown",
      "source": [
        "# Analysis\n",
        "From the above logistic regression, we again consider the highest weights for each bag-of-word feature for each class.\n",
        "\n"
      ],
      "metadata": {
        "id": "z5X7RmNwpxcM"
      }
    },
    {
      "cell_type": "code",
      "source": [
        "# here we reproduce the data\n",
        "run_logistic(trainingFile, devFile, testFile)"
      ],
      "metadata": {
        "id": "aoT81cJ5Mjdj",
        "colab": {
          "base_uri": "https://localhost:8080/"
        },
        "outputId": "1377e01b-a9d7-485e-9157-73b644de55e6"
      },
      "execution_count": null,
      "outputs": [
        {
          "output_type": "stream",
          "name": "stdout",
          "text": [
            "Test accuracy for best dev model: 0.255, 95% CIs: [0.195 0.315]\n",
            "\n",
            "1\t0.179\tfucking\n",
            "1\t0.168\tfuck\n",
            "1\t0.159\tis\n",
            "1\t0.153\tweek\n",
            "1\t0.093\tf\n",
            "1\t0.093\tship\n",
            "1\t0.092\tposted\n",
            "1\t0.092\tcry\n",
            "1\t0.092\t<\n",
            "1\t0.091\tbanned\n",
            "\n",
            "2\t0.260\tfuck\n",
            "2\t0.230\tnut\n",
            "2\t0.220\tthen\n",
            "2\t0.220\tcan\n",
            "2\t0.217\tan\n",
            "2\t0.194\tmissing\n",
            "2\t0.192\t?\n",
            "2\t0.185\thelp\n",
            "2\t0.183\telse\n",
            "2\t0.180\tare\n",
            "\n",
            "3\t0.359\tbe\n",
            "3\t0.355\tmy\n",
            "3\t0.254\t:\n",
            "3\t0.253\tfinals\n",
            "3\t0.224\tlike\n",
            "3\t0.223\tthe\n",
            "3\t0.211\tama\n",
            "3\t0.200\tpost\n",
            "3\t0.197\tfun\n",
            "3\t0.183\tsome\n",
            "\n",
            "4\t0.316\ta\n",
            "4\t0.256\tto\n",
            "4\t0.249\tgirl\n",
            "4\t0.244\tgood\n",
            "4\t0.231\tstudents\n",
            "4\t0.230\tmade\n",
            "4\t0.208\tknow\n",
            "4\t0.200\tevery\n",
            "4\t0.199\tall\n",
            "4\t0.167\twhat\n",
            "\n",
            "5\t0.770\t!\n",
            "5\t0.501\tfrom\n",
            "5\t0.483\ti\n",
            "5\t0.250\tberkeley\n",
            "5\t0.242\tview\n",
            "5\t0.222\tin\n",
            "5\t0.220\tyour\n",
            "5\t0.216\t``\n",
            "5\t0.213\t&\n",
            "5\t0.205\tcal\n",
            "\n",
            "6\t0.523\t.\n",
            "6\t0.310\tdo\n",
            "6\t0.306\ttime\n",
            "6\t0.296\t,\n",
            "6\t0.288\ttheir\n",
            "6\t0.248\tto\n",
            "6\t0.233\t2019\n",
            "6\t0.215\ton\n",
            "6\t0.211\tcal\n",
            "6\t0.196\ttop\n",
            "\n",
            "7\t0.439\t.\n",
            "7\t0.398\tuc\n",
            "7\t0.350\tat\n",
            "7\t0.329\tberkeley\n",
            "7\t0.308\t's\n",
            "7\t0.262\tpark\n",
            "7\t0.257\tof\n",
            "7\t0.244\tnew\n",
            "7\t0.243\tcalifornia\n",
            "7\t0.215\twill\n",
            "\n"
          ]
        }
      ]
    },
    {
      "cell_type": "markdown",
      "source": [
        "Here we can see our most prominent BOW features for each label. It is expected that punctuation like \".\" would have a high weight for the more formal classes, and it is interesting to see that the exclamation mark \"!\" was the most weighted feature for the label \"5\" (this can be explained by the fact that many titles that were gramatically correct and formal but included exclamation marks were downgraded from \"6\"/\"7\" to \"5\".)\n",
        "\n",
        "It is also no surprise that for the less formal labels like \"1\" and \"2\" that swear words and slang are the most promiennt features. \n",
        "\n",
        "We also see that for the less polarized classes that the prominent features are more common and neutral words such as \"a\", \"to\", \"berkeley\", etc."
      ],
      "metadata": {
        "id": "IC7Tn-beMm-z"
      }
    },
    {
      "cell_type": "markdown",
      "source": [
        "### Clean Data\n",
        "Because of the nature of the `read_labels` function, the labels we see in our predictions are not our true labels. Return the labels using our `reverse_labels` dictionary."
      ],
      "metadata": {
        "id": "xyD-aJYcrKbL"
      }
    },
    {
      "cell_type": "code",
      "source": [
        "# we see that the labels are 0 indexed for BERT\n",
        "set(predictions), set(test_y)"
      ],
      "metadata": {
        "id": "pSApNOA-3F5y",
        "colab": {
          "base_uri": "https://localhost:8080/"
        },
        "outputId": "ede14db8-1ba1-476a-8180-58e73f406ef2"
      },
      "execution_count": null,
      "outputs": [
        {
          "output_type": "execute_result",
          "data": {
            "text/plain": [
              "({0, 1, 2, 3, 4, 5, 6}, {0, 1, 2, 3, 4, 5, 6})"
            ]
          },
          "metadata": {},
          "execution_count": 27
        }
      ]
    },
    {
      "cell_type": "code",
      "source": [
        "predictions_fixed = [int(reverse_labels[val]) for val in predictions]\n",
        "test_y_fixed = [int(reverse_labels[val]) for val in test_y]"
      ],
      "metadata": {
        "id": "Zq2f-RufAKtq"
      },
      "execution_count": null,
      "outputs": []
    },
    {
      "cell_type": "code",
      "source": [
        "set(predictions_fixed), set(test_y_fixed) # returned to our label scheme"
      ],
      "metadata": {
        "id": "KaJOXi64BJKJ",
        "colab": {
          "base_uri": "https://localhost:8080/"
        },
        "outputId": "fbc08f1b-a79a-4d0c-86ce-1ed30165995a"
      },
      "execution_count": null,
      "outputs": [
        {
          "output_type": "execute_result",
          "data": {
            "text/plain": [
              "({1, 2, 3, 4, 5, 6, 7}, {1, 2, 3, 4, 5, 6, 7})"
            ]
          },
          "metadata": {},
          "execution_count": 29
        }
      ]
    },
    {
      "cell_type": "markdown",
      "source": [
        "### Confusion Matrix\n",
        "https://scikit-learn.org/stable/modules/generated/sklearn.metrics.ConfusionMatrixDisplay.html"
      ],
      "metadata": {
        "id": "--n4OcV5Ee61"
      }
    },
    {
      "cell_type": "code",
      "source": [
        "from sklearn.metrics import confusion_matrix, ConfusionMatrixDisplay\n",
        "import matplotlib.pyplot as plt"
      ],
      "metadata": {
        "id": "1oIxORLNEeMd"
      },
      "execution_count": null,
      "outputs": []
    },
    {
      "cell_type": "code",
      "source": [
        "cm = confusion_matrix(test_y_fixed, predictions_fixed, labels=[1, 2, 3, 4, 5, 6, 7])"
      ],
      "metadata": {
        "id": "Wp45usztq03i"
      },
      "execution_count": null,
      "outputs": []
    },
    {
      "cell_type": "code",
      "source": [
        "disp = ConfusionMatrixDisplay(confusion_matrix=cm, display_labels=[1, 2, 3, 4, 5, 6, 7])\n",
        "disp.plot()\n",
        "plt.show()"
      ],
      "metadata": {
        "id": "NKkvdt4es7d1",
        "colab": {
          "base_uri": "https://localhost:8080/",
          "height": 279
        },
        "outputId": "51d32666-b618-4b83-a9e6-ef5be4870b1c"
      },
      "execution_count": null,
      "outputs": [
        {
          "output_type": "display_data",
          "data": {
            "text/plain": [
              "<Figure size 432x288 with 2 Axes>"
            ],
            "image/png": "[encoded data removed]"
          },
          "metadata": {
            "needs_background": "light"
          }
        }
      ]
    },
    {
      "cell_type": "markdown",
      "source": [
        "We see that our confusion matrix has expected and proper behavior in that—for the most part—the predicted labels are only one label away from the true label. \n",
        "\n",
        "We also see that the test data is roughly normal as there are more samples for labels like 3,4,5 and less samples for labels like 1,7. This suggests that our data was not very uniform/balanced, and we could have benefitted from introducing larger weights for the less represented classes."
      ],
      "metadata": {
        "id": "cTtTsDwXFAju"
      }
    },
    {
      "cell_type": "code",
      "source": [
        "# most of the labels are 3, 4, 5\n",
        "plt.hist(test_y_fixed, [1, 2, 3, 4, 5, 6, 7, 8], align=\"mid\");"
      ],
      "metadata": {
        "id": "N30d1VSGNmOm",
        "colab": {
          "base_uri": "https://localhost:8080/",
          "height": 265
        },
        "outputId": "bc365bd6-8554-40d1-e4a1-6c7c3ca070ad"
      },
      "execution_count": null,
      "outputs": [
        {
          "output_type": "display_data",
          "data": {
            "text/plain": [
              "<Figure size 432x288 with 1 Axes>"
            ],
            "image/png": "[encoded data removed]"
          },
          "metadata": {
            "needs_background": "light"
          }
        }
      ]
    },
    {
      "cell_type": "markdown",
      "source": [
        "## Class Comparisons\n",
        "For each prediction label, let's see what the true labels were to see how close our BERT classifier was in the end."
      ],
      "metadata": {
        "id": "MxVmnZkgEy6-"
      }
    },
    {
      "cell_type": "code",
      "source": [
        "def show_true_labels(target_class):\n",
        "  pred = [index for index, val in enumerate(predictions_fixed) if val == target_class]\n",
        "  pred_x = [val for index, val in enumerate(test_x) if index in pred]\n",
        "  pred_true = [val for index, val in enumerate(test_y_fixed) if index in pred]\n",
        "\n",
        "  for data, label in zip(pred_x, pred_true):\n",
        "    print(f\"Title: {data}\", f\"True label: {label}\", f\"Predicted label: {target_class}\")\n",
        "\n",
        "\n",
        "show_true_labels(7)"
      ],
      "metadata": {
        "id": "A3z9iRfbtyE3",
        "colab": {
          "base_uri": "https://localhost:8080/"
        },
        "outputId": "e68d668b-61fd-4942-d412-b75dc8a4c019"
      },
      "execution_count": null,
      "outputs": [
        {
          "output_type": "stream",
          "name": "stdout",
          "text": [
            "Title: UC Berkeley may be forced by court to cut 3,000 freshman seats to halt growth\n",
            " True label: 7 Predicted label: 7\n",
            "Title: Black at Berkeley\n",
            " True label: 5 Predicted label: 7\n",
            "Title: Nick Weaver on UCOP's Data Breach Notifications\n",
            " True label: 7 Predicted label: 7\n",
            "Title: Why I Think Fall will be On-Line Only (Nick Weaver)\n",
            " True label: 6 Predicted label: 7\n",
            "Title: Morning from the roof of Evans Hall\n",
            " True label: 5 Predicted label: 7\n",
            "Title: Dr. Fauci will speak at the Berkeley Forum on August 27th!\n",
            " True label: 6 Predicted label: 7\n",
            "Title: Over 20 Women Come Forward to Accuse UC Berkeley Student of Sexual Assault\n",
            " True label: 7 Predicted label: 7\n",
            "Title: The Berkeley campus captured by Ansel Adams (1966)\n",
            " True label: 6 Predicted label: 7\n",
            "Title: 1:100 Scale Working Campanile!\n",
            " True label: 4 Predicted label: 7\n",
            "Title: Would you support the recall of ASUC senator Gabbi Sharp?\n",
            " True label: 7 Predicted label: 7\n",
            "Title: CSU East Bay, Satellite Campus\n",
            " True label: 7 Predicted label: 7\n",
            "Title: Today is the 32nd anniversary of the Tiananmen Square Massacre\n",
            " True label: 7 Predicted label: 7\n",
            "Title: The Purge - Berkeley Edition\n",
            " True label: 5 Predicted label: 7\n",
            "Title: Sather Tower (2017)\n",
            " True label: 7 Predicted label: 7\n",
            "Title: Staff at the Berkeley Lab sit atop the center of the cyclotron in 1938. Among them are 3 Nobel Laureates (including Ernest Lawrence) and J. Robert Oppenheimer, \"father of the atomic bomb.\"\n",
            " True label: 7 Predicted label: 7\n",
            "Title: I am Carol Christ, chancellor of UC Berkeley. Ask me anything!\n",
            " True label: 7 Predicted label: 7\n"
          ]
        }
      ]
    },
    {
      "cell_type": "code",
      "source": [
        "show_true_labels(2)"
      ],
      "metadata": {
        "id": "mCGujKkW-8Tq",
        "colab": {
          "base_uri": "https://localhost:8080/"
        },
        "outputId": "4381590d-4830-4d3e-f29f-e90d54ab5c2a"
      },
      "execution_count": null,
      "outputs": [
        {
          "output_type": "stream",
          "name": "stdout",
          "text": [
            "Title: STOP THE COUNT!\n",
            " True label: 3 Predicted label: 2\n",
            "Title: Hmm\n",
            " True label: 2 Predicted label: 2\n",
            "Title: saw this on sproul today :)\n",
            " True label: 3 Predicted label: 2\n",
            "Title: Spotted a handsome boi outside Sproul (IG: @uc.barkeley)\n",
            " True label: 2 Predicted label: 2\n",
            "Title: just committed!!!! so excited to be a baby bear 🐻💛💙\n",
            " True label: 2 Predicted label: 2\n",
            "Title: I fucking love Berkeley lmao\n",
            " True label: 1 Predicted label: 2\n",
            "Title: Anybody else lowkey wish this semester was PNP?\n",
            " True label: 3 Predicted label: 2\n",
            "Title: y’all ready for this?\n",
            " True label: 3 Predicted label: 2\n",
            "Title: Fuck\n",
            " True label: 1 Predicted label: 2\n",
            "Title: a gal in EECS here to vent about men\n",
            " True label: 3 Predicted label: 2\n",
            "Title: BEARS IN PENNSYLVANIA — MISSING CAL STUDENT\n",
            " True label: 3 Predicted label: 2\n",
            "Title: Jack-O(ski)-Lantern 🎃\n",
            " True label: 2 Predicted label: 2\n",
            "Title: UPDATE: Got my frisbee back s/o Dean Jacobsen\n",
            " True label: 3 Predicted label: 2\n",
            "Title: Respectfully, fuck EECS 16B\n",
            " True label: 2 Predicted label: 2\n",
            "Title: Last days of fall 🍂\n",
            " True label: 2 Predicted label: 2\n",
            "Title: Midterms are killing me\n",
            " True label: 3 Predicted label: 2\n",
            "Title: \"If you work hard and you get good grades, maybe you can go there.\"\n",
            " True label: 7 Predicted label: 2\n",
            "Title: Go bears!!!\n",
            " True label: 3 Predicted label: 2\n",
            "Title: GO BEARS!\n",
            " True label: 3 Predicted label: 2\n",
            "Title: whoooooo are you?\n",
            " True label: 2 Predicted label: 2\n",
            "Title: Thanks for the memories <3\n",
            " True label: 3 Predicted label: 2\n",
            "Title: DO NOT ENGAGE WITH RANDOM PEOPLE WHO ARE ASKING YOU QUESTIONS\n",
            " True label: 2 Predicted label: 2\n",
            "Title: HELP fellow 🐻\n",
            " True label: 2 Predicted label: 2\n",
            "Title: fr tho\n",
            " True label: 1 Predicted label: 2\n",
            "Title: Can some of y'all stop abusing the chat?\n",
            " True label: 3 Predicted label: 2\n",
            "Title: Am I just high or is Cal such a fuckin dope school\n",
            " True label: 2 Predicted label: 2\n",
            "Title: BREAKING: L&S HAS P/NP!!!\n",
            " True label: 3 Predicted label: 2\n"
          ]
        }
      ]
    },
    {
      "cell_type": "markdown",
      "source": [
        "For both predicted labels 7 and 2, we see that our predictions were often quite close, and for whenever our model predicted 2, the true labels were always in the range 1 to 3, suggesting that the model was on the right track but suffered from the more precise labeling."
      ],
      "metadata": {
        "id": "coHI7PiGLeqJ"
      }
    },
    {
      "cell_type": "markdown",
      "source": [
        "We can also see what our predictions were for each true class."
      ],
      "metadata": {
        "id": "DjDUYygNJlkP"
      }
    },
    {
      "cell_type": "code",
      "source": [
        "def show_pred_labels(true_class):\n",
        "  tru = [index for index, val in enumerate(test_y_fixed) if val == true_class]\n",
        "  pred_x = [val for index, val in enumerate(test_x) if index in tru]\n",
        "  pred_y = [val for index, val in enumerate(predictions_fixed) if index in tru]\n",
        "\n",
        "  for data, label in zip(pred_x, pred_y):\n",
        "    print(f\"Title: {data}\", f\"True label: {true_class}\", f\"Predicted label: {label}\")\n",
        "\n",
        "show_pred_labels(7)\n"
      ],
      "metadata": {
        "id": "07AZ--JuJlEJ",
        "colab": {
          "base_uri": "https://localhost:8080/"
        },
        "outputId": "cf1c66bf-696f-4164-f69d-c789da2d6bd2"
      },
      "execution_count": null,
      "outputs": [
        {
          "output_type": "stream",
          "name": "stdout",
          "text": [
            "Title: UC Berkeley may be forced by court to cut 3,000 freshman seats to halt growth\n",
            " True label: 7 Predicted label: 7\n",
            "Title: Nick Weaver on UCOP's Data Breach Notifications\n",
            " True label: 7 Predicted label: 7\n",
            "Title: UC Davis Student Government Passes New Resolution\n",
            " True label: 7 Predicted label: 6\n",
            "Title: UC Berkeley must withhold thousands of acceptance letters after state Supreme Court ruling\n",
            " True label: 7 Predicted label: 6\n",
            "Title: Over 20 Women Come Forward to Accuse UC Berkeley Student of Sexual Assault\n",
            " True label: 7 Predicted label: 7\n",
            "Title: UC Ranking by Major\n",
            " True label: 7 Predicted label: 4\n",
            "Title: I made a list of the 21 things you need to do and experience in Berkeley before you graduate, as well as my bucket list for the surrounding area--also good if you're looking for ways to spend spring break! Have I left anything out?\n",
            " True label: 7 Predicted label: 5\n",
            "Title: VIDEO: Man fired after blocking UC Berkeley graduate Michael Barajas from entering his own apartment building\n",
            " True label: 7 Predicted label: 5\n",
            "Title: \"If you work hard and you get good grades, maybe you can go there.\"\n",
            " True label: 7 Predicted label: 2\n",
            "Title: Nick's Latest Covid Thoughts\n",
            " True label: 7 Predicted label: 4\n",
            "Title: Would you support the recall of ASUC senator Gabbi Sharp?\n",
            " True label: 7 Predicted label: 7\n",
            "Title: Action Plan for Recall of Senator Gabbi Sharp\n",
            " True label: 7 Predicted label: 5\n",
            "Title: CSU East Bay, Satellite Campus\n",
            " True label: 7 Predicted label: 7\n",
            "Title: Today is the 32nd anniversary of the Tiananmen Square Massacre\n",
            " True label: 7 Predicted label: 7\n",
            "Title: Unique Extra Credit Opportunity\n",
            " True label: 7 Predicted label: 4\n",
            "Title: Steph Curry at the Cal Women’s Basketball Game Tonight\n",
            " True label: 7 Predicted label: 5\n",
            "Title: Sather Tower (2017)\n",
            " True label: 7 Predicted label: 7\n",
            "Title: Staff at the Berkeley Lab sit atop the center of the cyclotron in 1938. Among them are 3 Nobel Laureates (including Ernest Lawrence) and J. Robert Oppenheimer, \"father of the atomic bomb.\"\n",
            " True label: 7 Predicted label: 7\n",
            "Title: I am Carol Christ, chancellor of UC Berkeley. Ask me anything!\n",
            " True label: 7 Predicted label: 7\n"
          ]
        }
      ]
    },
    {
      "cell_type": "markdown",
      "source": [
        "We see that for our outlier prediction of 3, our model was heavily influenced by the presence of quotations (\"\").\n",
        "\n",
        "In general, our model suffered in a similar way as we—the annotators—did in that we realized that Reddit post titles are very varied and can come in many different formats. One thing that may have fixed our problem was to use data that was in the same format (i.e. all sentences or all headlines) because it was difficult to compare the formality of a proper headline (e.g. \"EECS Funding Crisis: What You Can Do Right Now\") vs formality of a full-on proper sentence (e.g. \"Staff at the Berkeley Lab sit atop the center of the cyclotron in 1938.\") We ended up treating proper headlines as 7s, but this was a confusing nuance that our model could not overcome and one that we would ultimately reevaluate (among other details) in our annotation guidelines if we were to redo this project. "
      ],
      "metadata": {
        "id": "Uu8C_mHCKI3L"
      }
    },
    {
      "cell_type": "markdown",
      "source": [
        "## Evaluating Evaluation\n",
        "\n",
        "Now let's see if we are a little more lenient in our evaluation how much our accuracy improves. We will first start by considering the label to the left and right as correct, this cuts down our range."
      ],
      "metadata": {
        "id": "BhAIR0JlFTq7"
      }
    },
    {
      "cell_type": "code",
      "source": [
        "def eval_lenient(pred_labels, true_labels):\n",
        "  total = 0\n",
        "  correct = 0\n",
        "\n",
        "  for pred, tru in zip(pred_labels, true_labels):\n",
        "    if pred in {tru-1, tru, tru+1}:\n",
        "      correct += 1\n",
        "    total += 1\n",
        "\n",
        "  return correct / total"
      ],
      "metadata": {
        "id": "h48Nm3WqthN0"
      },
      "execution_count": null,
      "outputs": []
    },
    {
      "cell_type": "code",
      "source": [
        "eval_lenient(predictions_fixed, test_y_fixed)"
      ],
      "metadata": {
        "id": "Wl8OkhQxGIN4",
        "colab": {
          "base_uri": "https://localhost:8080/"
        },
        "outputId": "d50102ee-5494-44a2-ccb0-185563a99cf3"
      },
      "execution_count": null,
      "outputs": [
        {
          "output_type": "execute_result",
          "data": {
            "text/plain": [
              "0.815"
            ]
          },
          "metadata": {},
          "execution_count": 38
        }
      ]
    },
    {
      "cell_type": "markdown",
      "source": [
        "This higher test accuracy with our more lenient evaluation suggests that if we posed a simpler question then we could have had higher model performance (though it would not necessarily be of more use as the results would be less precise).\n",
        "\n",
        "Similarly, we could turn our current ordinal classification into binary classification by changing the scale to be even (e.g. 1-8) and then have the labels 1-4 be the \"informal\" label and labels 5-8 to be the \"formal\" label."
      ],
      "metadata": {
        "id": "o2G8-FcMOb13"
      }
    },
    {
      "cell_type": "code",
      "source": [
        ""
      ],
      "metadata": {
        "id": "S1hL06VJGM7M"
      },
      "execution_count": null,
      "outputs": []
    }
  ]
}