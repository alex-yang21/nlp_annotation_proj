{
 "cells": [
  {
   "cell_type": "code",
   "execution_count": 3,
   "id": "ebcca129",
   "metadata": {},
   "outputs": [],
   "source": [
    "# install praw if not already installed\n",
    "# pip install praw\n",
    "import praw\n",
    "import numpy as np\n",
    "import pandas as pd"
   ]
  },
  {
   "cell_type": "code",
   "execution_count": 8,
   "id": "3e879856",
   "metadata": {},
   "outputs": [],
   "source": [
    "# my reddit account's api key\n",
    "client_id = 'hsRnsMzTbhy7BcJX3yxZlA'\n",
    "client_secret = 'Ixz_xSh0KZlR6t7HLI4vYQYgKzbFvA'\n",
    "user_agent = 'nlp_search'"
   ]
  },
  {
   "cell_type": "code",
   "execution_count": 11,
   "id": "56084311",
   "metadata": {},
   "outputs": [],
   "source": [
    "reddit = praw.Reddit(client_id=client_id, client_secret=client_secret, user_agent=user_agent)"
   ]
  },
  {
   "cell_type": "code",
   "execution_count": 18,
   "id": "7b8085f2",
   "metadata": {},
   "outputs": [],
   "source": [
    "# search for posts with a 'serious' tag\n",
    "# https://praw.readthedocs.io/en/latest/code_overview/models/subreddit.html\n",
    "serious = reddit.subreddit(\"all\").search(\"[SERIOUS]\", limit=10)"
   ]
  },
  {
   "cell_type": "code",
   "execution_count": 19,
   "id": "7d6860eb",
   "metadata": {},
   "outputs": [
    {
     "name": "stdout",
     "output_type": "stream",
     "text": [
      "I built a sarcasm converter for my keyboard to make it EaSy To TyPe SaRcAsTiCaLlY\n",
      "All reddit sarcasm and hate aside, PlayStation has been a part of my life since last 10 years and many more years to come.\n",
      "Delia’s catalogs from the 90’s use the sarcasm style alternating capitalization. Everything reads so snarky.\n",
      "I love Australian sense of sarcasm and irony\n",
      "MIL just gave some amazing advice. (Heavy Sarcasm)\n",
      "I built a sarcasm converter for my keyboard to make it EaSy To TyPe SaRcAsTiCaLlY\n",
      "sarcasm breaks the logic of linguistics\n",
      "Nice Guy doesn’t understand sarcasm and agrees with comment mocking Nice Guys\n",
      "I detect Sarcasm\n",
      "Flabbergasted that’s this is NOT sarcasm.\n"
     ]
    }
   ],
   "source": [
    "for submission in serious:\n",
    "    print(submission.title)"
   ]
  },
  {
   "cell_type": "code",
   "execution_count": null,
   "id": "7831495b",
   "metadata": {},
   "outputs": [],
   "source": []
  }
 ],
 "metadata": {
  "kernelspec": {
   "display_name": "Python 3 (ipykernel)",
   "language": "python",
   "name": "python3"
  },
  "language_info": {
   "codemirror_mode": {
    "name": "ipython",
    "version": 3
   },
   "file_extension": ".py",
   "mimetype": "text/x-python",
   "name": "python",
   "nbconvert_exporter": "python",
   "pygments_lexer": "ipython3",
   "version": "3.8.12"
  }
 },
 "nbformat": 4,
 "nbformat_minor": 5
}
