{
 "cells": [
  {
   "cell_type": "code",
   "execution_count": 3,
   "id": "41d8ba28",
   "metadata": {},
   "outputs": [],
   "source": [
    "import praw\n",
    "import numpy as np\n",
    "import pandas as pd"
   ]
  },
  {
   "cell_type": "code",
   "execution_count": 8,
   "id": "cf58e125",
   "metadata": {},
   "outputs": [],
   "source": [
    "client_id = 'hsRnsMzTbhy7BcJX3yxZlA'\n",
    "client_secret = 'Ixz_xSh0KZlR6t7HLI4vYQYgKzbFvA'\n",
    "user_agent = 'nlp_search'"
   ]
  },
  {
   "cell_type": "code",
   "execution_count": 11,
   "id": "45ec3ad9",
   "metadata": {},
   "outputs": [],
   "source": [
    "reddit = praw.Reddit(client_id=client_id, client_secret=client_secret, user_agent=user_agent)"
   ]
  },
  {
   "cell_type": "code",
   "execution_count": 14,
   "id": "818a55d7",
   "metadata": {},
   "outputs": [],
   "source": [
    "serious = reddit.subreddit(\"all\").search(\"SERIOUS\", limit=5)"
   ]
  },
  {
   "cell_type": "code",
   "execution_count": 15,
   "id": "40697d88",
   "metadata": {},
   "outputs": [
    {
     "name": "stdout",
     "output_type": "stream",
     "text": [
      "[Serious] What's a scary science fact that the public knows nothing about?\n",
      "A massive leak from one of the world’s biggest private banks, Credit Suisse, has exposed the hidden wealth of clients involved in torture, drug trafficking, money laundering, corruption and other serious crimes.\n",
      "Seriously? Wtf Wall Street Journal\n",
      "What was the closest you have ever been to death? (Serious)\n",
      "I think it’s a serious question\n"
     ]
    }
   ],
   "source": [
    "for submission in serious:\n",
    "    print(submission.title)"
   ]
  },
  {
   "cell_type": "code",
   "execution_count": null,
   "id": "10bf57f6",
   "metadata": {},
   "outputs": [],
   "source": []
  }
 ],
 "metadata": {
  "kernelspec": {
   "display_name": "Python 3 (ipykernel)",
   "language": "python",
   "name": "python3"
  },
  "language_info": {
   "codemirror_mode": {
    "name": "ipython",
    "version": 3
   },
   "file_extension": ".py",
   "mimetype": "text/x-python",
   "name": "python",
   "nbconvert_exporter": "python",
   "pygments_lexer": "ipython3",
   "version": "3.8.12"
  }
 },
 "nbformat": 4,
 "nbformat_minor": 5
}
