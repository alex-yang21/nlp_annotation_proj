{
 "cells": [
  {
   "cell_type": "code",
   "execution_count": 7,
   "id": "ebcca129",
   "metadata": {},
   "outputs": [],
   "source": [
    "# install praw if not already installed\n",
    "# pip install praw\n",
    "import praw\n",
    "import numpy as np\n",
    "import pandas as pd"
   ]
  },
  {
   "cell_type": "code",
   "execution_count": 8,
   "id": "3e879856",
   "metadata": {},
   "outputs": [],
   "source": [
    "# my reddit account's api key\n",
    "client_id = 'hsRnsMzTbhy7BcJX3yxZlA'\n",
    "client_secret = 'Ixz_xSh0KZlR6t7HLI4vYQYgKzbFvA'\n",
    "user_agent = 'nlp_search'"
   ]
  },
  {
   "cell_type": "code",
   "execution_count": 9,
   "id": "56084311",
   "metadata": {},
   "outputs": [],
   "source": [
    "reddit = praw.Reddit(client_id=client_id, client_secret=client_secret, user_agent=user_agent)"
   ]
  },
  {
   "cell_type": "code",
   "execution_count": 32,
   "id": "180a92ab",
   "metadata": {},
   "outputs": [],
   "source": [
    "popular = reddit.subreddit(\"all\").hot(limit=10)"
   ]
  },
  {
   "cell_type": "code",
   "execution_count": 33,
   "id": "5a7e46fa",
   "metadata": {},
   "outputs": [
    {
     "name": "stdout",
     "output_type": "stream",
     "text": [
      "0 Row row row \"your\" boat\n",
      "1 Even their own model is not comfortable with the design\n",
      "2 Me_irl\n",
      "3 The president of Ireland and his dog. They look like they're about to set off for a fantastical journey though middle earth!\n",
      "4 Pure political theatre. Putin’s “unscheduled” live emergency meeting with his security council was broadcast at 5pm. Sergei Shoigu & Sergei Lavrov watches both say 11:45.\n",
      "5 meirl\n",
      "6 80s Girlfriend (and me) then and now\n",
      "7 They did the Spider-Man pointing meme!\n",
      "8 TIL a man in San Francisco deposited a junk mail check written for $95,000 dollars, received the money, and built a career off of the event.\n",
      "9 Cat herding the dogs\n"
     ]
    }
   ],
   "source": [
    "for i, submission in enumerate(popular):\n",
    "    print(i, submission.title)"
   ]
  },
  {
   "cell_type": "markdown",
   "id": "34210b66",
   "metadata": {},
   "source": [
    "We see that even with this small sample, there are some more formal writing (3, 4), some mildly formal writing (1, 7, 8, 9), and then some informal writing (2, 5). The subreddit that it comes from will likely dictate the formality, but I'm not sure if we need to take this into account. For example, r/news or r/politics would typically have formal headlines while r/funny may be less so. We could keep our data more controlled by taking from only one less biased subreddit, such as r/Berkeley or r/CsMajors."
   ]
  },
  {
   "cell_type": "markdown",
   "id": "d1d70ebd",
   "metadata": {},
   "source": [
    "### Random use cases"
   ]
  },
  {
   "cell_type": "code",
   "execution_count": 20,
   "id": "7b8085f2",
   "metadata": {},
   "outputs": [],
   "source": [
    "# search for posts with a 'serious' tag\n",
    "# https://praw.readthedocs.io/en/latest/code_overview/models/subreddit.html\n",
    "serious = reddit.subreddit(\"all\").search(\"[SERIOUS]\", limit=5) # all is not a real subreddit but searches all subreddits"
   ]
  },
  {
   "cell_type": "code",
   "execution_count": 21,
   "id": "7d6860eb",
   "metadata": {},
   "outputs": [
    {
     "name": "stdout",
     "output_type": "stream",
     "text": [
      "[Serious] What's a scary science fact that the public knows nothing about? \n",
      "A massive leak from one of the world’s biggest private banks, Credit Suisse, has exposed the hidden wealth of clients involved in torture, drug trafficking, money laundering, corruption and other serious crimes. \n",
      "[Serious] people who've experienced the paranormal or seen cryptids and other unknown creatures, what's your story? \n",
      "What was the closest you have ever been to death? (Serious) \n"
     ]
    }
   ],
   "source": [
    "for submission in serious:\n",
    "    print(submission.title)"
   ]
  },
  {
   "cell_type": "code",
   "execution_count": 18,
   "id": "7831495b",
   "metadata": {},
   "outputs": [],
   "source": [
    "# search for the most popular posts recently, vs 'top' which I think just returns most popular of all time\n",
    "hot = reddit.subreddit(\"all\").hot(limit=5)"
   ]
  },
  {
   "cell_type": "code",
   "execution_count": 19,
   "id": "52cd646e",
   "metadata": {},
   "outputs": [
    {
     "name": "stdout",
     "output_type": "stream",
     "text": [
      "Row row row \"your\" boat\n",
      "\n",
      "Even their own model is not comfortable with the design\n",
      "\n",
      "Pure political theatre. Putin’s “unscheduled” live emergency meeting with his security council was broadcast at 5pm. Sergei Shoigu & Sergei Lavrov watches both say 11:45.\n",
      "\n",
      "They did the Spider-Man pointing meme!\n",
      "\n",
      "TIL a man in San Francisco deposited a junk mail check written for $95,000 dollars, received the money, and built a career off of the event.\n",
      "\n"
     ]
    }
   ],
   "source": [
    "for submission in hot:\n",
    "    print(submission.title)\n",
    "    print(submission.selftext)"
   ]
  },
  {
   "cell_type": "code",
   "execution_count": 27,
   "id": "32e3eab0",
   "metadata": {},
   "outputs": [],
   "source": [
    "berkeley = reddit.subreddit(\"Berkeley\").new(limit=10)"
   ]
  },
  {
   "cell_type": "code",
   "execution_count": 28,
   "id": "11d6d771",
   "metadata": {},
   "outputs": [
    {
     "name": "stdout",
     "output_type": "stream",
     "text": [
      "title: What meal plan do RAs get?\n",
      "text: Is it just the standard plan (blue plan)?\n",
      "\n",
      "\n",
      "title: the Godfather of LSD speaks from his home in San Francisco\n",
      "text: \n",
      "\n",
      "\n",
      "title: bsc waitlist\n",
      "text: hey! i have eop and dsp priority in the bsc member portal. what are the odds of getting an access code?\n",
      "\n",
      "\n",
      "title: parking @ lower Sproul garage?\n",
      "text: I have a late exam next week and wanted to drive my car rather than deal with walking home at night. How can I check if the garage will be closed for events? Can I park my car there for 4-5 hours?\n",
      "\n",
      "\n",
      "title: Is it possible to do a reduced course load every semester as a DSP student?\n",
      "text: I am part of the Disabled Students' Program due to ADHD. I am also a transfer student who switched to being an IB major. I have around 6 upper division courses left. I was wondering if it was possible to do a reduced course load and do 2 courses each semester until I graduate. I've been finding it difficult to manage even 13 units (the min for L&S) per semester so I was wondering if slowly chipping away at these courses without taking extra electives outside of my major requirements was an option. Has any DSP student done this before?\n",
      "\n",
      "I am currently taking a reduced course load this semester. I was wondering if I was just limited to one or if it was possible to do during multiple semesters.\n",
      "\n",
      "\n",
      "title: Hii! Does UC Berkeley have a master's program in Cognitive Science?\n",
      "text: \n",
      "\n",
      "\n",
      "title: Tutor for 8th grade to highschool level math\n",
      "text: Hey! I’m looking for a math tutor for my younger brother who is currently in eighth grade but will be moving onto highschool this upcoming school year! Please pm me if you are interested or know of any reliable tutors in Berkeley!\n",
      "\n",
      "\n",
      "title: Writing manuscripts with grammar check SW.\n",
      "text: Do you have any experiences with Writefull or similar Apps for grammar check. Do they really work for final check of scientific papers? I tried Grammarly some time ago and it may helped a bit, but the SW suffered in senteces with technical terms.\n",
      "\n",
      "\n",
      "title: Bus Buddy for Bus 52 to near UC Village\n",
      "text: I usually go on the Bus 52 around 6PM everyday, and most of the times, my phone dies and I don't really have anything to do while I am on the bus. So, I just sit there thinking of nothing and doing nothing for about 25 minutes. \n",
      "\n",
      "I am looking for a Bus Buddy for Bus 52 who is willing to have a nice conversation with me on the bus and who usually goes back around 6pm. :)\n",
      "\n",
      "\n",
      "title: Math upperdiv seats and office hours\n",
      "text: I never realized math upper divs that aren't 110 have like max 50 seats.. that's crazy to me as almost every cs upperdiv has like 600.\n",
      "\n",
      "Are office hours just godlike fast and empty in math classes?\n",
      "\n",
      "\n"
     ]
    }
   ],
   "source": [
    "for submission in berkeley:\n",
    "    print('title: '+submission.title)\n",
    "    print('text: '+submission.selftext)\n",
    "    print('\\n')"
   ]
  },
  {
   "cell_type": "code",
   "execution_count": null,
   "id": "5b04934a",
   "metadata": {},
   "outputs": [],
   "source": []
  }
 ],
 "metadata": {
  "kernelspec": {
   "display_name": "Python 3 (ipykernel)",
   "language": "python",
   "name": "python3"
  },
  "language_info": {
   "codemirror_mode": {
    "name": "ipython",
    "version": 3
   },
   "file_extension": ".py",
   "mimetype": "text/x-python",
   "name": "python",
   "nbconvert_exporter": "python",
   "pygments_lexer": "ipython3",
   "version": "3.8.12"
  }
 },
 "nbformat": 4,
 "nbformat_minor": 5
}
